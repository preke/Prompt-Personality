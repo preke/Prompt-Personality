{
 "cells": [
  {
   "cell_type": "code",
   "execution_count": 45,
   "id": "ef0db488",
   "metadata": {},
   "outputs": [
    {
     "name": "stdout",
     "output_type": "stream",
     "text": [
      "I PRP\n",
      "move VBP\n",
      "a DT\n",
      "movement NN\n"
     ]
    },
    {
     "data": {
      "text/plain": [
       "['I', 'move', 'a', 'movement']"
      ]
     },
     "execution_count": 45,
     "metadata": {},
     "output_type": "execute_result"
    }
   ],
   "source": [
    "from nltk.corpus import wordnet as wn\n",
    "from nltk.stem import WordNetLemmatizer\n",
    "from nltk import pos_tag\n",
    "from nltk.tokenize import sent_tokenize, word_tokenize\n",
    "\n",
    "def lemmatize_all(sentence):\n",
    "    wnl = WordNetLemmatizer()\n",
    "    results = []\n",
    "    for word, tag in pos_tag(word_tokenize(sentence)):\n",
    "        print(word, tag)\n",
    "        if tag.startswith('NN'):\n",
    "            a = wnl.lemmatize(word, pos='n')\n",
    "        elif tag.startswith('VB'):\n",
    "            a = wnl.lemmatize(word, pos='n')\n",
    "        elif tag.startswith('JJ'):\n",
    "            a = wnl.lemmatize(word, pos='a')\n",
    "        elif tag.startswith('R'):\n",
    "            a = wnl.lemmatize(word, pos='r')\n",
    "        else:\n",
    "            a =  word\n",
    "        results.append(a)\n",
    "    return results\n",
    "\n",
    "lemmatize_all('I move a movement')\n"
   ]
  },
  {
   "cell_type": "code",
   "execution_count": 35,
   "id": "df4e720a",
   "metadata": {},
   "outputs": [
    {
     "name": "stderr",
     "output_type": "stream",
     "text": [
      "[nltk_data] Downloading package averaged_perceptron_tagger to\n",
      "[nltk_data]     /home/zhiyuan/nltk_data...\n",
      "[nltk_data]   Unzipping taggers/averaged_perceptron_tagger.zip.\n"
     ]
    },
    {
     "data": {
      "text/plain": [
       "True"
      ]
     },
     "execution_count": 35,
     "metadata": {},
     "output_type": "execute_result"
    }
   ],
   "source": [
    "import nltk\n",
    ">>> nltk.download('averaged_perceptron_tagger')"
   ]
  },
  {
   "cell_type": "code",
   "execution_count": 25,
   "id": "2ff11371",
   "metadata": {},
   "outputs": [
    {
     "ename": "TypeError",
     "evalue": "'method' object is not iterable",
     "output_type": "error",
     "traceback": [
      "\u001b[0;31m---------------------------------------------------------------------------\u001b[0m",
      "\u001b[0;31mTypeError\u001b[0m                                 Traceback (most recent call last)",
      "\u001b[0;32m/tmp/ipykernel_7567/4098445255.py\u001b[0m in \u001b[0;36m<module>\u001b[0;34m\u001b[0m\n\u001b[0;32m----> 1\u001b[0;31m \u001b[0mnounify\u001b[0m\u001b[0;34m(\u001b[0m\u001b[0;34m'die'\u001b[0m\u001b[0;34m)\u001b[0m\u001b[0;34m\u001b[0m\u001b[0;34m\u001b[0m\u001b[0m\n\u001b[0m",
      "\u001b[0;32m/tmp/ipykernel_7567/3941279195.py\u001b[0m in \u001b[0;36mnounify\u001b[0;34m(verb_word)\u001b[0m\n\u001b[1;32m     10\u001b[0m \u001b[0;34m\u001b[0m\u001b[0m\n\u001b[1;32m     11\u001b[0m     \u001b[0;31m# Get all verb lemmas of the word\u001b[0m\u001b[0;34m\u001b[0m\u001b[0;34m\u001b[0m\u001b[0m\n\u001b[0;32m---> 12\u001b[0;31m     verb_lemmas = [l for s in verb_synsets \\\n\u001b[0m\u001b[1;32m     13\u001b[0m                    for l in s.lemmas if s.name.split('.')[1] == 'v']\n\u001b[1;32m     14\u001b[0m \u001b[0;34m\u001b[0m\u001b[0m\n",
      "\u001b[0;32m/tmp/ipykernel_7567/3941279195.py\u001b[0m in \u001b[0;36m<listcomp>\u001b[0;34m(.0)\u001b[0m\n\u001b[1;32m     11\u001b[0m     \u001b[0;31m# Get all verb lemmas of the word\u001b[0m\u001b[0;34m\u001b[0m\u001b[0;34m\u001b[0m\u001b[0m\n\u001b[1;32m     12\u001b[0m     verb_lemmas = [l for s in verb_synsets \\\n\u001b[0;32m---> 13\u001b[0;31m                    for l in s.lemmas if s.name.split('.')[1] == 'v']\n\u001b[0m\u001b[1;32m     14\u001b[0m \u001b[0;34m\u001b[0m\u001b[0m\n\u001b[1;32m     15\u001b[0m     \u001b[0;31m# Get related forms\u001b[0m\u001b[0;34m\u001b[0m\u001b[0;34m\u001b[0m\u001b[0m\n",
      "\u001b[0;31mTypeError\u001b[0m: 'method' object is not iterable"
     ]
    }
   ],
   "source": []
  },
  {
   "cell_type": "code",
   "execution_count": 5,
   "id": "3a15d28d",
   "metadata": {},
   "outputs": [
    {
     "name": "stderr",
     "output_type": "stream",
     "text": [
      "Some weights of the model checkpoint at bert-base-cased were not used when initializing BertForMaskedLM: ['cls.seq_relationship.bias', 'cls.seq_relationship.weight']\n",
      "- This IS expected if you are initializing BertForMaskedLM from the checkpoint of a model trained on another task or with another architecture (e.g. initializing a BertForSequenceClassification model from a BertForPreTraining model).\n",
      "- This IS NOT expected if you are initializing BertForMaskedLM from the checkpoint of a model that you expect to be exactly identical (initializing a BertForSequenceClassification model from a BertForSequenceClassification model).\n"
     ]
    }
   ],
   "source": [
    "SEED = 42\n",
    "\n",
    "from sklearn.model_selection import train_test_split\n",
    "Uttr_train, Uttr_test, label_train, label_test = \\\n",
    "        train_test_split(df['utterance'], df['labels'], test_size=0.1, random_state=SEED, stratify=df['labels'])\n",
    "\n",
    "Uttr_train, Uttr_valid, label_train, label_valid = \\\n",
    "        train_test_split(Uttr_train, label_train, test_size=0.1, random_state=SEED, stratify=label_train)\n",
    "\n",
    "\n",
    "# Construct Samples\n",
    "from openprompt.data_utils import InputExample\n",
    "dataset = {}\n",
    "for split in ['train', 'validation', 'test']:\n",
    "    dataset[split] = []\n",
    "    cnt = 0\n",
    "    if split == 'train':\n",
    "        for u,l in zip(Uttr_train, label_train):\n",
    "            input_sample = InputExample(text_a=u, label=int(l),guid=cnt)\n",
    "            cnt += 1\n",
    "            dataset[split].append(input_sample)\n",
    "    elif split == 'validation':\n",
    "        for u,l in zip(Uttr_valid, label_valid):\n",
    "            input_sample = InputExample(text_a=u, label=int(l),guid=cnt)\n",
    "            cnt += 1\n",
    "            dataset[split].append(input_sample)\n",
    "    elif split == 'test':\n",
    "        for u,l in zip(Uttr_test, label_test):\n",
    "            input_sample = InputExample(text_a=u, label=int(l),guid=cnt)\n",
    "            cnt += 1\n",
    "            dataset[split].append(input_sample)\n",
    "\n",
    "from openprompt.plms import load_plm\n",
    "plm, tokenizer, model_config, WrapperClass = load_plm(\"bert\", \"bert-base-cased\")"
   ]
  },
  {
   "cell_type": "code",
   "execution_count": 10,
   "id": "01235da7",
   "metadata": {},
   "outputs": [
    {
     "name": "stdout",
     "output_type": "stream",
     "text": [
      "[[{'text': \"  Okay, (reading the card) Fonzy gives you two thumbs up, collect two cool points. Yeah.  Okay, come on! (blows on the dice) Daddy needs a new pair of electromagnetic microscopes for the Prehistoric Forensics Department! (They all look at him, and he shuts up and rolls the dice.) (he moves his piece) Okay. (reading a card) Take Pinky Tuscadero up to Inspiration Point, collect three cool points!! Yeah! Which gives me five, and let's see who is gonna lose their clothes. Ummmm, I think I pick our strip poker sponsor Mr. Joey Tribianni.\", 'soft_token_ids': 0, 'loss_ids': 0, 'shortenable_ids': 1}, {'text': 'he', 'soft_token_ids': 1, 'loss_ids': 0, 'shortenable_ids': 0}, {'text': 'is', 'soft_token_ids': 2, 'loss_ids': 0, 'shortenable_ids': 0}, {'text': '<mask>', 'soft_token_ids': 0, 'loss_ids': 1, 'shortenable_ids': 0}, {'text': 'person', 'soft_token_ids': 3, 'loss_ids': 0, 'shortenable_ids': 0}, {'text': '.', 'soft_token_ids': 0, 'loss_ids': 0, 'shortenable_ids': 0}], {'guid': 0, 'label': 0}]\n"
     ]
    }
   ],
   "source": [
    "\n",
    "\n",
    "mytemplate = MixedTemplate(\n",
    "    model = plm, \n",
    "    tokenizer = tokenizer,\n",
    "    text='{\"placeholder\":\"text_a\"} {\"soft\": \"he is\"} {\"mask\"} {\"soft\": \"person\"}.')\n",
    "\n",
    "wrapped_example = mytemplate.wrap_one_example(dataset['train'][0])\n",
    "print(wrapped_example)"
   ]
  }
 ],
 "metadata": {
  "kernelspec": {
   "display_name": "Python 3 (ipykernel)",
   "language": "python",
   "name": "python3"
  },
  "language_info": {
   "codemirror_mode": {
    "name": "ipython",
    "version": 3
   },
   "file_extension": ".py",
   "mimetype": "text/x-python",
   "name": "python",
   "nbconvert_exporter": "python",
   "pygments_lexer": "ipython3",
   "version": "3.9.7"
  }
 },
 "nbformat": 4,
 "nbformat_minor": 5
}
