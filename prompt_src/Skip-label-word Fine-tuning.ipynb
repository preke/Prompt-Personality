{
 "cells": [
  {
   "cell_type": "code",
   "execution_count": 1,
   "id": "fb9d7ebc",
   "metadata": {},
   "outputs": [],
   "source": [
    "from transformers import T5Tokenizer, T5ForConditionalGeneration\n",
    "import sklearn\n",
    "import pandas as pd\n",
    "import numpy as np\n",
    "\n",
    "from transformers import AdamW, get_linear_schedule_with_warmup\n",
    "from sklearn.metrics import f1_score\n",
    "from sklearn.metrics import confusion_matrix,classification_report\n",
    "import torch\n",
    "import torch.nn as nn\n",
    "import torch.nn.functional as F\n",
    "from tqdm import tqdm, trange,tnrange,tqdm_notebook\n",
    "from transformers import BertTokenizer, BertConfig\n",
    "import random\n",
    "import shutil"
   ]
  },
  {
   "cell_type": "markdown",
   "id": "20292ef1",
   "metadata": {},
   "source": [
    "## Load T5 Model"
   ]
  },
  {
   "cell_type": "code",
   "execution_count": 2,
   "id": "729de4a8",
   "metadata": {},
   "outputs": [
    {
     "name": "stderr",
     "output_type": "stream",
     "text": [
      "/home/zhiyuan/ENTER/lib/python3.9/site-packages/transformers/models/t5/tokenization_t5.py:164: FutureWarning: This tokenizer was incorrectly instantiated with a model max length of 512 which will be corrected in Transformers v5.\n",
      "For now, this behavior is kept to avoid breaking backwards compatibility when padding/encoding with `truncation is True`.\n",
      "- Be aware that you SHOULD NOT rely on t5-base automatically truncating your input to 512 when padding/encoding.\n",
      "- If you want to encode/pad to sequences longer than 512 you can either instantiate this tokenizer with `model_max_length` or pass `max_length` when encoding/padding.\n",
      "- To avoid this warning, please instantiate this tokenizer with `model_max_length` set to your preferred value.\n",
      "  warnings.warn(\n"
     ]
    }
   ],
   "source": [
    "# tokenizer = T5Tokenizer.from_pretrained(\"t5-base\")\n",
    "# model = T5ForConditionalGeneration.from_pretrained(\"t5-base\")"
   ]
  },
  {
   "cell_type": "markdown",
   "id": "12c0cf23",
   "metadata": {},
   "source": [
    "## Load Data "
   ]
  },
  {
   "cell_type": "code",
   "execution_count": 26,
   "id": "7c304052",
   "metadata": {},
   "outputs": [
    {
     "name": "stdout",
     "output_type": "stream",
     "text": [
      "(158419, 1)\n",
      "(149305, 1)\n"
     ]
    }
   ],
   "source": [
    "import string\n",
    "punctuation = string.punctuation\n",
    "import nltk\n",
    "\n",
    "import re\n",
    "def sent_tokenize(df,sent_method):\n",
    "    sents = []\n",
    "    for index,row in df.iterrows():\n",
    "        sent = []\n",
    "        tempSent = row['utterance'].split('|||')\n",
    "        if sent_method == 'nltk':\n",
    "            for i in tempSent:\n",
    "                sent = sent + nltk.sent_tokenize(i)\n",
    "        elif sent_method == 'comma':\n",
    "            for i in tempSent:\n",
    "                sent = sent + [j.strip().lower() for j in re.split(r\"[,,.,?,!,;()]\",i) if len(j.strip().split(' '))>1]\n",
    "        sents = sents + sent\n",
    "    return sents\n",
    "\n",
    "\n",
    "data_paths = [\n",
    "#     '../data/FriendsPersona/Friends_A_whole.tsv',\n",
    "#     '../data/myPersonality/MyPersonality_A_whole.tsv',\n",
    "#     '../data/pan2015/Pan_A_whole.tsv',\n",
    "    '../data/Essay/Essay_A_whole.tsv',\n",
    "    # '../data/Kaggle_mbti/Kaggle_map_label_words_comma.tsv'  \n",
    "]\n",
    "\n",
    "df_data = pd.DataFrame([])\n",
    "for path in data_paths:\n",
    "    df = pd.read_csv(path,  sep='\\t')\n",
    "    sents = sent_tokenize(df,'comma')\n",
    "    df_sents = pd.DataFrame(sents)\n",
    "    df_data = pd.concat([df_data, df_sents], axis=0)\n",
    "    print(df_data.shape)\n",
    "df_data = df_data.drop_duplicates()\n",
    "print(df_data.shape)"
   ]
  },
  {
   "cell_type": "code",
   "execution_count": 23,
   "id": "0a254b63",
   "metadata": {},
   "outputs": [
    {
     "name": "stdout",
     "output_type": "stream",
     "text": [
      "7610\n",
      "1434\n"
     ]
    }
   ],
   "source": [
    "label_words = []\n",
    "for trait in ['A','C','E','O','N']:\n",
    "    with open('label_words/'+trait+'_words.txt', 'r') as f:\n",
    "        pos = f.readline().split(',')\n",
    "        neg = f.readline().split(',')\n",
    "    label_words += pos\n",
    "    label_words += neg\n",
    "print(len(label_words))\n",
    "label_words = set(label_words)\n",
    "print(len(label_words))"
   ]
  },
  {
   "cell_type": "code",
   "execution_count": 18,
   "id": "57918847",
   "metadata": {},
   "outputs": [],
   "source": [
    "refined_label_words = label_words - set(('think', 'about'))"
   ]
  },
  {
   "cell_type": "code",
   "execution_count": 27,
   "id": "9069d91c",
   "metadata": {},
   "outputs": [
    {
     "name": "stdout",
     "output_type": "stream",
     "text": [
      "41741\n",
      "0:01:01.012563\n"
     ]
    }
   ],
   "source": [
    "import datetime\n",
    "starttime = datetime.datetime.now()\n",
    "context_dict = {}\n",
    "\n",
    "sent_with_label_word = []\n",
    "for sent in df_data[0]: ## 200015\n",
    "    for word in refined_label_words: ## 1433\n",
    "        if word in sent.split(' '):\n",
    "            sent_with_label_word.append([sent, word])\n",
    "            w_list = sent.split(' ')\n",
    "            for w in w_list:\n",
    "                if not w == word:\n",
    "                    try:\n",
    "                        context_dict[w] += 1\n",
    "                    except:\n",
    "                        context_dict[w] = 1\n",
    "print(len(sent_with_label_word))\n",
    "\n",
    "endtime = datetime.datetime.now()\n",
    "print((endtime - starttime))\n"
   ]
  },
  {
   "cell_type": "code",
   "execution_count": 28,
   "id": "9a201b45",
   "metadata": {},
   "outputs": [
    {
     "name": "stdout",
     "output_type": "stream",
     "text": [
      "i 57807\n",
      "to 32087\n",
      "and 23516\n",
      "the 21009\n",
      "that 16525\n",
      "is 15529\n",
      "a 15257\n",
      "my 14533\n",
      "it 13617\n",
      "of 13206\n",
      "in 9602\n",
      "but 9044\n",
      "so 8359\n",
      " 8013\n",
      "be 7981\n",
      "me 7712\n",
      "have 7377\n",
      "this 6663\n",
      "am 6303\n",
      "was 6287\n",
      "for 6127\n",
      "not 6033\n"
     ]
    }
   ],
   "source": [
    "sorted_dict = {k: v for k, v in sorted(context_dict.items(), key=lambda item: item[1], reverse=True)}\n",
    "cnt = 0\n",
    "for k, v in sorted_dict.items():\n",
    "    print(k,v)\n",
    "    if cnt > 20:\n",
    "        break\n",
    "    cnt += 1"
   ]
  },
  {
   "cell_type": "code",
   "execution_count": 6,
   "id": "62d073e9",
   "metadata": {},
   "outputs": [
    {
     "data": {
      "text/html": [
       "<div>\n",
       "<style scoped>\n",
       "    .dataframe tbody tr th:only-of-type {\n",
       "        vertical-align: middle;\n",
       "    }\n",
       "\n",
       "    .dataframe tbody tr th {\n",
       "        vertical-align: top;\n",
       "    }\n",
       "\n",
       "    .dataframe thead th {\n",
       "        text-align: right;\n",
       "    }\n",
       "</style>\n",
       "<table border=\"1\" class=\"dataframe\">\n",
       "  <thead>\n",
       "    <tr style=\"text-align: right;\">\n",
       "      <th></th>\n",
       "      <th>sent</th>\n",
       "      <th>label_word</th>\n",
       "    </tr>\n",
       "  </thead>\n",
       "  <tbody>\n",
       "    <tr>\n",
       "      <th>0</th>\n",
       "      <td>and everything was fine until</td>\n",
       "      <td>fine</td>\n",
       "    </tr>\n",
       "    <tr>\n",
       "      <th>1</th>\n",
       "      <td>lying on massage table</td>\n",
       "      <td>lying</td>\n",
       "    </tr>\n",
       "    <tr>\n",
       "      <th>2</th>\n",
       "      <td>moving his hands up phoebe's legs</td>\n",
       "      <td>moving</td>\n",
       "    </tr>\n",
       "    <tr>\n",
       "      <th>3</th>\n",
       "      <td>just some basic dehydrating of a few fruits an...</td>\n",
       "      <td>basic</td>\n",
       "    </tr>\n",
       "    <tr>\n",
       "      <th>4</th>\n",
       "      <td>i'm nervous</td>\n",
       "      <td>nervous</td>\n",
       "    </tr>\n",
       "  </tbody>\n",
       "</table>\n",
       "</div>"
      ],
      "text/plain": [
       "                                                sent label_word\n",
       "0                      and everything was fine until       fine\n",
       "1                             lying on massage table      lying\n",
       "2                  moving his hands up phoebe's legs     moving\n",
       "3  just some basic dehydrating of a few fruits an...      basic\n",
       "4                                        i'm nervous    nervous"
      ]
     },
     "execution_count": 6,
     "metadata": {},
     "output_type": "execute_result"
    }
   ],
   "source": [
    "df_data = pd.DataFrame([])\n",
    "df_data['sent'] = [i[0] for i in sent_with_label_word]\n",
    "df_data['label_word'] = [i[1] for i in sent_with_label_word]\n",
    "df_data.head()"
   ]
  },
  {
   "cell_type": "code",
   "execution_count": 7,
   "id": "e86aa237",
   "metadata": {},
   "outputs": [
    {
     "data": {
      "text/html": [
       "<div>\n",
       "<style scoped>\n",
       "    .dataframe tbody tr th:only-of-type {\n",
       "        vertical-align: middle;\n",
       "    }\n",
       "\n",
       "    .dataframe tbody tr th {\n",
       "        vertical-align: top;\n",
       "    }\n",
       "\n",
       "    .dataframe thead th {\n",
       "        text-align: right;\n",
       "    }\n",
       "</style>\n",
       "<table border=\"1\" class=\"dataframe\">\n",
       "  <thead>\n",
       "    <tr style=\"text-align: right;\">\n",
       "      <th></th>\n",
       "      <th>sent</th>\n",
       "      <th>label_word</th>\n",
       "      <th>span_1</th>\n",
       "      <th>span_2</th>\n",
       "    </tr>\n",
       "  </thead>\n",
       "  <tbody>\n",
       "    <tr>\n",
       "      <th>0</th>\n",
       "      <td>and everything was fine until</td>\n",
       "      <td>fine</td>\n",
       "      <td>and everything was</td>\n",
       "      <td>until</td>\n",
       "    </tr>\n",
       "    <tr>\n",
       "      <th>1</th>\n",
       "      <td>lying on massage table</td>\n",
       "      <td>lying</td>\n",
       "      <td></td>\n",
       "      <td>on massage table</td>\n",
       "    </tr>\n",
       "    <tr>\n",
       "      <th>2</th>\n",
       "      <td>moving his hands up phoebe's legs</td>\n",
       "      <td>moving</td>\n",
       "      <td></td>\n",
       "      <td>his hands up phoebe's legs</td>\n",
       "    </tr>\n",
       "    <tr>\n",
       "      <th>3</th>\n",
       "      <td>just some basic dehydrating of a few fruits an...</td>\n",
       "      <td>basic</td>\n",
       "      <td>just some</td>\n",
       "      <td>dehydrating of a few fruits and vegetables</td>\n",
       "    </tr>\n",
       "    <tr>\n",
       "      <th>4</th>\n",
       "      <td>i'm nervous</td>\n",
       "      <td>nervous</td>\n",
       "      <td>i'm</td>\n",
       "      <td></td>\n",
       "    </tr>\n",
       "  </tbody>\n",
       "</table>\n",
       "</div>"
      ],
      "text/plain": [
       "                                                sent label_word  \\\n",
       "0                      and everything was fine until       fine   \n",
       "1                             lying on massage table      lying   \n",
       "2                  moving his hands up phoebe's legs     moving   \n",
       "3  just some basic dehydrating of a few fruits an...      basic   \n",
       "4                                        i'm nervous    nervous   \n",
       "\n",
       "                span_1                                       span_2  \n",
       "0  and everything was                                         until  \n",
       "1                                                  on massage table  \n",
       "2                                        his hands up phoebe's legs  \n",
       "3           just some    dehydrating of a few fruits and vegetables  \n",
       "4                 i'm                                                "
      ]
     },
     "execution_count": 7,
     "metadata": {},
     "output_type": "execute_result"
    }
   ],
   "source": [
    "def get_span(pos, row):\n",
    "    if pos == 1:\n",
    "        return row['sent'].split(row['label_word'])[0]\n",
    "    elif pos == 2:\n",
    "        try:\n",
    "            return row['sent'].split(row['label_word'])[1]\n",
    "        except:\n",
    "            return \"\"\n",
    "\n",
    "df_data['span_1'] = df_data.apply(lambda x: get_span(1, x), axis=1)\n",
    "df_data['span_2'] = df_data.apply(lambda x: get_span(2, x), axis=1)\n",
    "df_data.head()"
   ]
  },
  {
   "cell_type": "code",
   "execution_count": 9,
   "id": "ac714847",
   "metadata": {},
   "outputs": [],
   "source": [
    "df_data.head(1000).to_csv('test.tsv', sep='\\t')"
   ]
  },
  {
   "cell_type": "markdown",
   "id": "d7bbcac5",
   "metadata": {},
   "source": [
    "## Construct Training Samples"
   ]
  },
  {
   "cell_type": "code",
   "execution_count": 38,
   "id": "75018307",
   "metadata": {},
   "outputs": [
    {
     "name": "stderr",
     "output_type": "stream",
     "text": [
      "Truncation was not explicitly activated but `max_length` is provided a specific value, please use `truncation=True` to explicitly truncate examples to max length. Defaulting to 'longest_first' truncation strategy. If you encode pairs of sequences (GLUE-style) with the tokenizer you can select this strategy more precisely by providing a specific strategy to `truncation`.\n",
      "/home/zhiyuan/ENTER/lib/python3.9/site-packages/transformers/tokenization_utils_base.py:2301: FutureWarning: The `pad_to_max_length` argument is deprecated and will be removed in a future version, use `padding=True` or `padding='longest'` to pad to the longest sequence in the batch, or use `padding='max_length'` to pad to a max length. In this case, you can give a specific length with `max_length` (e.g. `max_length=45`) or leave max_length to None to pad to the maximal input size of the model (e.g. 512 for Bert).\n",
      "  warnings.warn(\n"
     ]
    }
   ],
   "source": [
    "def get_input_and_target(df):\n",
    "    span_1   = '<extra_id_0> '\n",
    "    span_2   = ' <extra_id_1> '\n",
    "    span_end = ' <extra_id_2>'\n",
    "    tmp_df = df.fillna(\" \")\n",
    "    tmp_df['inputs'] = span_1 + tmp_df['label_word'] + span_2\n",
    "    tmp_df['target'] = span_1 + tmp_df['span_1'] + span_2 + tmp_df['span_2'] + span_end\n",
    "    return list(tmp_df['inputs']), list(tmp_df['target'])\n",
    "\n",
    "inputs, targets = get_input_and_target(df_data)\n",
    "\n",
    "\n",
    "from torch.utils.data import TensorDataset, DataLoader, RandomSampler, SequentialSampler\n",
    "from sklearn.model_selection import train_test_split\n",
    "\n",
    "max_len    = 20\n",
    "batch_size = 16\n",
    "\n",
    "inputs  = [tokenizer.encode(sent, add_special_tokens=True, max_length=max_len, pad_to_max_length=True) for sent in inputs]\n",
    "targets = [tokenizer.encode(sent, add_special_tokens=True, max_length=max_len, pad_to_max_length=True) for sent in targets]\n",
    "\n",
    "\n",
    "## TO DO ::: construct input mask\n",
    "input_attention_masks = [[float(i>0) for i in seq] for seq in inputs]\n",
    "\n",
    "\n",
    "\n",
    "train_inputs  = inputs\n",
    "train_masks   = input_attention_masks\n",
    "train_targets = targets\n",
    "\n",
    "\n",
    "train_inputs     = torch.tensor(train_inputs)\n",
    "train_targets    = torch.tensor(train_targets)\n",
    "train_masks      = torch.tensor(train_masks)\n",
    "\n",
    "train_data       = TensorDataset(train_inputs, train_masks, train_targets)\n",
    "train_sampler    = RandomSampler(train_data)\n",
    "train_dataloader = DataLoader(train_data, sampler=train_sampler, batch_size=batch_size)\n"
   ]
  },
  {
   "cell_type": "markdown",
   "id": "7289733c",
   "metadata": {},
   "source": [
    "## Fine-tuning T5 model"
   ]
  },
  {
   "cell_type": "code",
   "execution_count": 39,
   "id": "c29096e2",
   "metadata": {},
   "outputs": [
    {
     "name": "stderr",
     "output_type": "stream",
     "text": [
      "/home/zhiyuan/ENTER/lib/python3.9/site-packages/transformers/optimization.py:306: FutureWarning: This implementation of AdamW is deprecated and will be removed in a future version. Use the PyTorch implementation torch.optim.AdamW instead, or set `no_deprecation_warning=True` to disable this warning\n",
      "  warnings.warn(\n",
      "/tmp/ipykernel_20621/613035615.py:13: TqdmDeprecationWarning: Please use `tqdm.notebook.trange` instead of `tqdm.tnrange`\n",
      "  for _ in tnrange(1, num_epoch+1, desc='Epoch'):\n"
     ]
    },
    {
     "data": {
      "application/vnd.jupyter.widget-view+json": {
       "model_id": "50505d42fefc40e8b6a6c5dadd8ef953",
       "version_major": 2,
       "version_minor": 0
      },
      "text/plain": [
       "Epoch:   0%|          | 0/100 [00:00<?, ?it/s]"
      ]
     },
     "metadata": {},
     "output_type": "display_data"
    },
    {
     "name": "stdout",
     "output_type": "stream",
     "text": [
      "<====================== Epoch 1 ======================>\n",
      "9295.930498123169\n",
      "<====================== Epoch 2 ======================>\n",
      "8639.428654670715\n",
      "<====================== Epoch 3 ======================>\n",
      "8267.243554472923\n",
      "<====================== Epoch 4 ======================>\n",
      "7954.965410113335\n",
      "<====================== Epoch 5 ======================>\n",
      "7687.0647040605545\n",
      "<====================== Epoch 6 ======================>\n",
      "7440.246058940887\n",
      "<====================== Epoch 7 ======================>\n",
      "7212.2961703538895\n",
      "<====================== Epoch 8 ======================>\n",
      "7003.700336933136\n",
      "<====================== Epoch 9 ======================>\n",
      "6803.423740327358\n",
      "<====================== Epoch 10 ======================>\n",
      "6616.095346331596\n",
      "<====================== Epoch 11 ======================>\n",
      "6440.434916853905\n",
      "<====================== Epoch 12 ======================>\n",
      "6269.80981528759\n",
      "<====================== Epoch 13 ======================>\n",
      "6101.765981674194\n",
      "<====================== Epoch 14 ======================>\n",
      "5947.186869859695\n",
      "<====================== Epoch 15 ======================>\n",
      "5795.640866398811\n",
      "<====================== Epoch 16 ======================>\n",
      "5652.573081374168\n",
      "<====================== Epoch 17 ======================>\n",
      "5514.282096624374\n",
      "<====================== Epoch 18 ======================>\n",
      "5375.085220873356\n",
      "<====================== Epoch 19 ======================>\n",
      "5251.261933624744\n",
      "<====================== Epoch 20 ======================>\n",
      "5123.383871793747\n",
      "<====================== Epoch 21 ======================>\n",
      "5006.344127833843\n",
      "<====================== Epoch 22 ======================>\n",
      "4891.139159560204\n",
      "<====================== Epoch 23 ======================>\n",
      "4782.074482083321\n",
      "<====================== Epoch 24 ======================>\n",
      "4675.641802370548\n",
      "<====================== Epoch 25 ======================>\n",
      "4567.492575705051\n",
      "<====================== Epoch 26 ======================>\n",
      "4473.959973037243\n",
      "<====================== Epoch 27 ======================>\n",
      "4384.846105277538\n",
      "<====================== Epoch 28 ======================>\n",
      "4289.998818397522\n",
      "<====================== Epoch 29 ======================>\n",
      "4199.032634437084\n",
      "<====================== Epoch 30 ======================>\n",
      "4119.709498345852\n",
      "<====================== Epoch 31 ======================>\n",
      "4039.796664059162\n",
      "<====================== Epoch 32 ======================>\n",
      "3951.1289554834366\n",
      "<====================== Epoch 33 ======================>\n",
      "3885.654219150543\n",
      "<====================== Epoch 34 ======================>\n",
      "3814.5815757513046\n",
      "<====================== Epoch 35 ======================>\n",
      "3744.602669239044\n",
      "<====================== Epoch 36 ======================>\n",
      "3677.2528742551804\n",
      "<====================== Epoch 37 ======================>\n",
      "3613.4548812508583\n",
      "<====================== Epoch 38 ======================>\n",
      "3552.9242827892303\n",
      "<====================== Epoch 39 ======================>\n",
      "3494.76059705019\n",
      "<====================== Epoch 40 ======================>\n",
      "3437.736697435379\n",
      "<====================== Epoch 41 ======================>\n",
      "3387.597365438938\n",
      "<====================== Epoch 42 ======================>\n",
      "3338.465136706829\n",
      "<====================== Epoch 43 ======================>\n",
      "3285.2657828330994\n",
      "<====================== Epoch 44 ======================>\n",
      "3238.224386870861\n",
      "<====================== Epoch 45 ======================>\n",
      "3194.032771408558\n",
      "<====================== Epoch 46 ======================>\n",
      "3147.442440867424\n",
      "<====================== Epoch 47 ======================>\n",
      "3108.299083471298\n",
      "<====================== Epoch 48 ======================>\n",
      "3069.962757885456\n",
      "<====================== Epoch 49 ======================>\n",
      "3026.3040993511677\n",
      "<====================== Epoch 50 ======================>\n",
      "2993.383432030678\n",
      "<====================== Epoch 51 ======================>\n",
      "2952.718172043562\n",
      "<====================== Epoch 52 ======================>\n",
      "2922.073758125305\n",
      "<====================== Epoch 53 ======================>\n",
      "2889.356928765774\n",
      "<====================== Epoch 54 ======================>\n",
      "2853.512800067663\n",
      "<====================== Epoch 55 ======================>\n",
      "2829.212549418211\n",
      "<====================== Epoch 56 ======================>\n",
      "2798.682195454836\n",
      "<====================== Epoch 57 ======================>\n",
      "2768.162558555603\n",
      "<====================== Epoch 58 ======================>\n",
      "2745.401969432831\n",
      "<====================== Epoch 59 ======================>\n",
      "2720.6011294722557\n",
      "<====================== Epoch 60 ======================>\n",
      "2693.6175941228867\n",
      "<====================== Epoch 61 ======================>\n",
      "2665.6642023026943\n",
      "<====================== Epoch 62 ======================>\n",
      "2645.9368400871754\n",
      "<====================== Epoch 63 ======================>\n",
      "2624.5204778313637\n",
      "<====================== Epoch 64 ======================>\n",
      "2605.975451439619\n",
      "<====================== Epoch 65 ======================>\n",
      "2581.411755949259\n",
      "<====================== Epoch 66 ======================>\n",
      "2563.7425311505795\n",
      "<====================== Epoch 67 ======================>\n",
      "2545.3176943957806\n",
      "<====================== Epoch 68 ======================>\n",
      "2528.0664405226707\n",
      "<====================== Epoch 69 ======================>\n",
      "2507.1751001775265\n",
      "<====================== Epoch 70 ======================>\n",
      "2488.014065951109\n",
      "<====================== Epoch 71 ======================>\n",
      "2475.1930558383465\n",
      "<====================== Epoch 72 ======================>\n",
      "2462.4316304326057\n",
      "<====================== Epoch 73 ======================>\n",
      "2444.6751294732094\n",
      "<====================== Epoch 74 ======================>\n",
      "2427.0352006554604\n",
      "<====================== Epoch 75 ======================>\n",
      "2411.5817044079304\n",
      "<====================== Epoch 76 ======================>\n",
      "2394.101493626833\n",
      "<====================== Epoch 77 ======================>\n",
      "2383.2335706949234\n",
      "<====================== Epoch 78 ======================>\n",
      "2370.1992532908916\n",
      "<====================== Epoch 79 ======================>\n",
      "2357.2336473166943\n",
      "<====================== Epoch 80 ======================>\n",
      "2345.3232937157154\n",
      "<====================== Epoch 81 ======================>\n",
      "2333.5312070846558\n",
      "<====================== Epoch 82 ======================>\n",
      "2324.0878108739853\n",
      "<====================== Epoch 83 ======================>\n",
      "2312.7535235881805\n",
      "<====================== Epoch 84 ======================>\n",
      "2300.387070029974\n",
      "<====================== Epoch 85 ======================>\n",
      "2288.7667424976826\n",
      "<====================== Epoch 86 ======================>\n",
      "2279.0255199074745\n",
      "<====================== Epoch 87 ======================>\n",
      "2270.552770525217\n",
      "<====================== Epoch 88 ======================>\n",
      "2264.261072307825\n",
      "<====================== Epoch 89 ======================>\n",
      "2254.661910355091\n",
      "<====================== Epoch 90 ======================>\n",
      "2243.8865966796875\n",
      "<====================== Epoch 91 ======================>\n",
      "2232.6647992432117\n",
      "<====================== Epoch 92 ======================>\n",
      "2223.2278665304184\n",
      "<====================== Epoch 93 ======================>\n",
      "2218.7531307935715\n",
      "<====================== Epoch 94 ======================>\n",
      "2209.350469917059\n",
      "<====================== Epoch 95 ======================>\n",
      "2202.571520805359\n",
      "<====================== Epoch 96 ======================>\n",
      "2192.1838223040104\n",
      "<====================== Epoch 97 ======================>\n",
      "2188.391610234976\n",
      "<====================== Epoch 98 ======================>\n",
      "2174.5273442566395\n",
      "<====================== Epoch 99 ======================>\n",
      "2169.965058118105\n",
      "<====================== Epoch 100 ======================>\n",
      "2163.2199217379093\n"
     ]
    }
   ],
   "source": [
    "num_epoch          = 100\n",
    "learning_rate      = 1e-4\n",
    "adam_epsilon       = 1e-8\n",
    "num_warmup_steps   = 0\n",
    "num_training_steps = len(train_dataloader)*num_epoch\n",
    "\n",
    "\n",
    "optimizer = AdamW(filter(lambda p: p.requires_grad, model.parameters()), lr = learning_rate, eps = adam_epsilon, correct_bias = False)  \n",
    "scheduler = get_linear_schedule_with_warmup(optimizer, num_warmup_steps=num_warmup_steps, num_training_steps=num_training_steps)  \n",
    "\n",
    "\n",
    "model.cuda()\n",
    "for _ in tnrange(1, num_epoch+1, desc='Epoch'):\n",
    "    print(\"<\" + \"=\"*22 + F\" Epoch {_} \"+ \"=\"*22 + \">\")\n",
    "    batch_loss = 0\n",
    "    for step, batch in enumerate(train_dataloader):\n",
    "        model.train()\n",
    "        batch = tuple(t.cuda() for t in batch)\n",
    "        b_input_ids, b_input_masks, b_labels = batch\n",
    "\n",
    "        loss = model(input_ids=b_input_ids, attention_mask=b_input_masks, labels=b_labels).loss\n",
    "        \n",
    "        loss.backward()\n",
    "        torch.nn.utils.clip_grad_norm_(model.parameters(), 1.0)\n",
    "        optimizer.step()\n",
    "        optimizer.zero_grad()\n",
    "        \n",
    "        batch_loss += loss.item()\n",
    "        \n",
    "        ## evaluation\n",
    "        \n",
    "    print(batch_loss)"
   ]
  },
  {
   "cell_type": "markdown",
   "id": "3d5a8d42",
   "metadata": {},
   "source": [
    "## Save Model"
   ]
  },
  {
   "cell_type": "code",
   "execution_count": 40,
   "id": "48c7cd72",
   "metadata": {},
   "outputs": [
    {
     "data": {
      "text/plain": [
       "('Friends_template_t5_base/tokenizer_config.json',\n",
       " 'Friends_template_t5_base/special_tokens_map.json',\n",
       " 'Friends_template_t5_base/spiece.model',\n",
       " 'Friends_template_t5_base/added_tokens.json')"
      ]
     },
     "execution_count": 40,
     "metadata": {},
     "output_type": "execute_result"
    }
   ],
   "source": [
    "model_path = 'Friends_template_t5_base/'\n",
    "model.save_pretrained(model_path)\n",
    "tokenizer.save_pretrained(model_path)"
   ]
  },
  {
   "cell_type": "markdown",
   "id": "78684f1a",
   "metadata": {},
   "source": [
    "## Save Prior Logits"
   ]
  },
  {
   "cell_type": "markdown",
   "id": "52023e2e",
   "metadata": {},
   "source": [
    "#### construct input samples for all the label words:"
   ]
  },
  {
   "cell_type": "code",
   "execution_count": null,
   "id": "6e1410ad",
   "metadata": {},
   "outputs": [],
   "source": [
    "# df_verbalizer = pd.read_csv('big_five_cleaned.tsv', sep='\\t')\n",
    "# pos = [a.lower() for a in list(df_verbalizer['word'][df_verbalizer['A']>0])]\n",
    "# neg = [a.lower() for a in list(df_verbalizer['word'][df_verbalizer['A']<0])]\n",
    "# label_words = pos + neg\n",
    "\n",
    "# span_1   = '<extra_id_0> '\n",
    "# span_2   = ' <extra_id_1> '\n",
    "\n",
    "# inputs = []\n",
    "# for w in label_words:    \n",
    "#      inputs.append(span_1 + w + span_2)\n",
    "\n",
    "# inputs  = [tokenizer.encode(sent, add_special_tokens=True, max_length=max_len, pad_to_max_length=True) for sent in inputs]\n",
    "# input_attention_masks = [[float(i>0) for i in seq] for seq in inputs]\n"
   ]
  },
  {
   "cell_type": "markdown",
   "id": "e01a4bd1",
   "metadata": {},
   "source": [
    "#### generate the logits of each position in the template"
   ]
  },
  {
   "cell_type": "code",
   "execution_count": null,
   "id": "07899813",
   "metadata": {},
   "outputs": [],
   "source": [
    "# # inputs = torch.tensor(inputs)\n",
    "# # input_attention_masks = torch.tensor(input_attention_masks)\n",
    "\n",
    "# label_word_logits = []\n",
    "# for input_, mask_ in zip(inputs, input_attention_masks):\n",
    "#     input_ = torch.tensor(input_).cuda()\n",
    "#     mask_  = torch.tensor(mask_).cuda()\n",
    "#     logits = model(input_ids=input_, attention_mask=mask_)[0]\n",
    "#     label_word_logits.append(logits)\n",
    "#     label_word_logits = torch.cat(label_word_logits, 0)\n",
    "\n",
    "# print(label_word_logits.shape)"
   ]
  },
  {
   "cell_type": "code",
   "execution_count": null,
   "id": "266fd5ec",
   "metadata": {},
   "outputs": [],
   "source": []
  }
 ],
 "metadata": {
  "kernelspec": {
   "display_name": "Python 3 (ipykernel)",
   "language": "python",
   "name": "python3"
  },
  "language_info": {
   "codemirror_mode": {
    "name": "ipython",
    "version": 3
   },
   "file_extension": ".py",
   "mimetype": "text/x-python",
   "name": "python",
   "nbconvert_exporter": "python",
   "pygments_lexer": "ipython3",
   "version": "3.9.7"
  }
 },
 "nbformat": 4,
 "nbformat_minor": 5
}
