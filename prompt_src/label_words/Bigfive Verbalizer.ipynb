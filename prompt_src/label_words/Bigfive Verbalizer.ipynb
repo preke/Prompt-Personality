{
 "cells": [
  {
   "cell_type": "code",
   "execution_count": 1,
   "id": "8986fec9",
   "metadata": {},
   "outputs": [],
   "source": [
    "import numpy as np\n",
    "import pandas as pd"
   ]
  },
  {
   "cell_type": "markdown",
   "id": "40aeb96e",
   "metadata": {},
   "source": [
    "## Load label words from domain knowledge"
   ]
  },
  {
   "cell_type": "code",
   "execution_count": 2,
   "id": "6b921dee",
   "metadata": {},
   "outputs": [
    {
     "data": {
      "text/html": [
       "<div>\n",
       "<style scoped>\n",
       "    .dataframe tbody tr th:only-of-type {\n",
       "        vertical-align: middle;\n",
       "    }\n",
       "\n",
       "    .dataframe tbody tr th {\n",
       "        vertical-align: top;\n",
       "    }\n",
       "\n",
       "    .dataframe thead th {\n",
       "        text-align: right;\n",
       "    }\n",
       "</style>\n",
       "<table border=\"1\" class=\"dataframe\">\n",
       "  <thead>\n",
       "    <tr style=\"text-align: right;\">\n",
       "      <th></th>\n",
       "      <th>word</th>\n",
       "      <th>A</th>\n",
       "      <th>E</th>\n",
       "      <th>C</th>\n",
       "      <th>N</th>\n",
       "      <th>O</th>\n",
       "      <th>nnon</th>\n",
       "    </tr>\n",
       "  </thead>\n",
       "  <tbody>\n",
       "    <tr>\n",
       "      <th>0</th>\n",
       "      <td>Naive</td>\n",
       "      <td>0.26*</td>\n",
       "      <td>-0.20</td>\n",
       "      <td>-0.21</td>\n",
       "      <td>0.12</td>\n",
       "      <td>-0.18</td>\n",
       "      <td>NaN</td>\n",
       "    </tr>\n",
       "    <tr>\n",
       "      <th>1</th>\n",
       "      <td>Altruistic</td>\n",
       "      <td>0.25*</td>\n",
       "      <td>0.00</td>\n",
       "      <td>-0.03</td>\n",
       "      <td>-0.06</td>\n",
       "      <td>0.22</td>\n",
       "      <td>NaN</td>\n",
       "    </tr>\n",
       "    <tr>\n",
       "      <th>2</th>\n",
       "      <td>Compliant</td>\n",
       "      <td>0.24*</td>\n",
       "      <td>-0.19</td>\n",
       "      <td>-0.02</td>\n",
       "      <td>0.01</td>\n",
       "      <td>-0.04</td>\n",
       "      <td>NaN</td>\n",
       "    </tr>\n",
       "    <tr>\n",
       "      <th>3</th>\n",
       "      <td>Natural</td>\n",
       "      <td>0.23*</td>\n",
       "      <td>0.09</td>\n",
       "      <td>0.03</td>\n",
       "      <td>-0.17</td>\n",
       "      <td>0.14</td>\n",
       "      <td>NaN</td>\n",
       "    </tr>\n",
       "    <tr>\n",
       "      <th>4</th>\n",
       "      <td>Suggestible</td>\n",
       "      <td>0.17*</td>\n",
       "      <td>0.00</td>\n",
       "      <td>-0.06</td>\n",
       "      <td>0.07</td>\n",
       "      <td>-0.16</td>\n",
       "      <td>NaN</td>\n",
       "    </tr>\n",
       "  </tbody>\n",
       "</table>\n",
       "</div>"
      ],
      "text/plain": [
       "          word      A      E      C      N      O  nnon\n",
       "0        Naive  0.26*  -0.20  -0.21   0.12  -0.18   NaN\n",
       "1   Altruistic  0.25*   0.00  -0.03  -0.06   0.22   NaN\n",
       "2    Compliant  0.24*  -0.19  -0.02   0.01  -0.04   NaN\n",
       "3      Natural  0.23*   0.09   0.03  -0.17   0.14   NaN\n",
       "4  Suggestible  0.17*   0.00  -0.06   0.07  -0.16   NaN"
      ]
     },
     "execution_count": 2,
     "metadata": {},
     "output_type": "execute_result"
    }
   ],
   "source": [
    "df = pd.read_csv('big_five_description.tsv', sep='\\t')\n",
    "df.columns = ['word', 'A', 'E', 'C', 'N', 'O', 'nnon']\n",
    "df.head()"
   ]
  },
  {
   "cell_type": "code",
   "execution_count": 3,
   "id": "e6301398",
   "metadata": {},
   "outputs": [],
   "source": [
    "import re\n",
    "def numeric(input_):\n",
    "    x = str(input_).replace(' ', '')\n",
    "    if x.endswith('*'):\n",
    "        x=x[:-1]\n",
    "    if x.startswith('3'):\n",
    "        x = \"0.\"+x\n",
    "    if x.startswith('2'):\n",
    "        x = \"0.\"+x\n",
    "    elif x.startswith('-3'):\n",
    "        x = \"-0.\"+x[1:]\n",
    "    elif x.startswith('03'):\n",
    "        x = '0.3'+x[2:]\n",
    "    elif x.startswith('-03'):\n",
    "        x = '-0.3'+x[3:]\n",
    "    try:\n",
    "        x = eval(x)\n",
    "    except:\n",
    "        print(input_)\n",
    "    return x\n",
    "\n",
    "df['A'] = df['A'].apply(numeric)\n",
    "df['C'] = df['C'].apply(numeric)\n",
    "df['E'] = df['E'].apply(numeric)\n",
    "df['O'] = df['O'].apply(numeric)\n",
    "df['N'] = df['N'].apply(numeric)"
   ]
  },
  {
   "cell_type": "markdown",
   "id": "0d94d022",
   "metadata": {},
   "source": [
    "## Find synonyms and antonyms for each label word from ConceptNet"
   ]
  },
  {
   "cell_type": "code",
   "execution_count": 4,
   "id": "faecc8fe",
   "metadata": {},
   "outputs": [],
   "source": [
    "import requests\n",
    "\n",
    "words = df['word']\n",
    "\n",
    "words_dict = {}\n",
    "for w in [i.lower() for i in words]:\n",
    "    words_dict[w] = []\n",
    "    synonyms = []\n",
    "    antonyms = []\n",
    "    # Synonym\n",
    "    s_obj = requests.get('http://api.conceptnet.io/query?start=/c/en/'+w+'&rel=/r/Synonym&limit=100').json()\n",
    "    cnt = 0\n",
    "    for d in s_obj['edges']:\n",
    "        if d['end']['language'] == 'en':\n",
    "            synonyms.append(d['end']['label'])\n",
    "            cnt += 1\n",
    "        if cnt > 10:\n",
    "            break\n",
    "    \n",
    "    # Antonym\n",
    "    a_obj = requests.get('http://api.conceptnet.io/query?start=/c/en/'+w+'&rel=/r/Antonym&limit=100').json()\n",
    "    cnt = 0\n",
    "    for d in a_obj['edges']:\n",
    "        if d['end']['language'] == 'en':\n",
    "            antonyms.append(d['end']['label'])\n",
    "            cnt += 1\n",
    "        if cnt > 10:\n",
    "            break\n",
    "    words_dict[w] = [synonyms, antonyms]"
   ]
  },
  {
   "cell_type": "markdown",
   "id": "c49beb12",
   "metadata": {},
   "source": [
    "---"
   ]
  },
  {
   "cell_type": "markdown",
   "id": "4cded785",
   "metadata": {},
   "source": [
    "## Create verbalizer for each big-five trait"
   ]
  },
  {
   "cell_type": "code",
   "execution_count": 5,
   "id": "b612253c",
   "metadata": {},
   "outputs": [
    {
     "name": "stdout",
     "output_type": "stream",
     "text": [
      "Total label words for  A is 765 , 775\n",
      "Total label words for  C is 788 , 742\n",
      "Total label words for  E is 791 , 718\n",
      "Total label words for  N is 724 , 790\n",
      "Total label words for  O is 868 , 649\n"
     ]
    }
   ],
   "source": [
    "for trait in ['A','C','E', 'N', 'O']:\n",
    "    f_word = open(trait+'_words.txt', 'w')\n",
    "    f_weight = open(trait+'_weights.txt', 'w')\n",
    "    words_pos = []\n",
    "    words_neg = []\n",
    "    weights_pos = []\n",
    "    weights_neg = []\n",
    "    for i,r in df.iterrows():\n",
    "        try:\n",
    "            if r[trait] > 0:\n",
    "                words_pos.append(r['word'].lower())\n",
    "                weights_pos.append(r[trait])\n",
    "                for w in words_dict[r['word'].lower()][0]:\n",
    "                    if not ((w in words_neg) or (w in words_pos)): \n",
    "                        words_pos.append(w)\n",
    "                        weights_pos.append(r[trait])\n",
    "                for w in words_dict[r['word'].lower()][1]:\n",
    "                    if not ((w in words_neg) or (w in words_pos)): \n",
    "                        words_neg.append(w) \n",
    "                        weights_neg.append(-r[trait])\n",
    "            elif r[trait] < 0:\n",
    "                words_neg.append(r['word'].lower())\n",
    "                weights_neg.append(r[trait])\n",
    "                for w in words_dict[r['word'].lower()][0]:\n",
    "                    if not ((w in words_neg) or (w in words_pos)): \n",
    "                        words_neg.append(w)\n",
    "                        weights_neg.append(r[trait])\n",
    "                for w in words_dict[r['word'].lower()][1]:\n",
    "                    if not ((w in words_neg) or (w in words_pos)):\n",
    "                        words_pos.append(w)\n",
    "                        weights_pos.append(-r[trait])\n",
    "        except:\n",
    "            # print(r['word'])\n",
    "            pass\n",
    "    \n",
    "    \n",
    "    \n",
    "    print('Total label words for ', trait, 'is', str(len(words_pos)), ',', str(len(words_neg)))\n",
    "    f_word.write(','.join(words_pos)+'\\n')\n",
    "    f_word.write(','.join(words_neg))\n",
    "    f_weight.write(str(weights_pos)+'\\n')\n",
    "    f_weight.write(str(weights_neg))\n",
    "    f_word.close()\n",
    "    f_weight.close()"
   ]
  }
 ],
 "metadata": {
  "kernelspec": {
   "display_name": "Python 3 (ipykernel)",
   "language": "python",
   "name": "python3"
  },
  "language_info": {
   "codemirror_mode": {
    "name": "ipython",
    "version": 3
   },
   "file_extension": ".py",
   "mimetype": "text/x-python",
   "name": "python",
   "nbconvert_exporter": "python",
   "pygments_lexer": "ipython3",
   "version": "3.9.7"
  }
 },
 "nbformat": 4,
 "nbformat_minor": 5
}
