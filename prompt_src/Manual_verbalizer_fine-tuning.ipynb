{
 "cells": [
  {
   "cell_type": "code",
   "execution_count": null,
   "id": "2b835c26",
   "metadata": {},
   "outputs": [
    {
     "name": "stderr",
     "output_type": "stream",
     "text": [
      "tokenizing: 2it [00:00, 2074.33it/s]\n",
      "tokenizing: 2it [00:00, 2243.54it/s]\n",
      "tokenizing: 72it [00:00, 2303.67it/s]\n",
      "/home/zhiyuan/ENTER/lib/python3.9/site-packages/transformers/optimization.py:306: FutureWarning: This implementation of AdamW is deprecated and will be removed in a future version. Use thePyTorch implementation torch.optim.AdamW instead, or set `no_deprecation_warning=True` to disable this warning\n",
      "  warnings.warn(\n"
     ]
    },
    {
     "name": "stdout",
     "output_type": "stream",
     "text": [
      "6\n",
      "225\n",
      "Current SEED: 321 TEST F1 0.7256637168141593\n"
     ]
    },
    {
     "name": "stderr",
     "output_type": "stream",
     "text": [
      "tokenizing: 2it [00:00, 2136.68it/s]\n",
      "tokenizing: 2it [00:00, 1600.88it/s]\n",
      "tokenizing: 72it [00:00, 2340.55it/s]\n",
      "/home/zhiyuan/ENTER/lib/python3.9/site-packages/transformers/optimization.py:306: FutureWarning: This implementation of AdamW is deprecated and will be removed in a future version. Use thePyTorch implementation torch.optim.AdamW instead, or set `no_deprecation_warning=True` to disable this warning\n",
      "  warnings.warn(\n"
     ]
    },
    {
     "name": "stdout",
     "output_type": "stream",
     "text": [
      "6\n",
      "225\n",
      "Current SEED: 42 TEST F1 0.6363636363636364\n"
     ]
    },
    {
     "name": "stderr",
     "output_type": "stream",
     "text": [
      "tokenizing: 2it [00:00, 2262.30it/s]\n",
      "tokenizing: 2it [00:00, 1625.38it/s]\n",
      "tokenizing: 72it [00:00, 2388.61it/s]\n",
      "/home/zhiyuan/ENTER/lib/python3.9/site-packages/transformers/optimization.py:306: FutureWarning: This implementation of AdamW is deprecated and will be removed in a future version. Use thePyTorch implementation torch.optim.AdamW instead, or set `no_deprecation_warning=True` to disable this warning\n",
      "  warnings.warn(\n"
     ]
    },
    {
     "name": "stdout",
     "output_type": "stream",
     "text": [
      "6\n",
      "225\n",
      "Current SEED: 1024 TEST F1 0.7027027027027027\n"
     ]
    },
    {
     "name": "stderr",
     "output_type": "stream",
     "text": [
      "tokenizing: 2it [00:00, 1570.02it/s]\n",
      "tokenizing: 2it [00:00, 1622.55it/s]\n",
      "tokenizing: 72it [00:00, 2166.79it/s]\n",
      "/home/zhiyuan/ENTER/lib/python3.9/site-packages/transformers/optimization.py:306: FutureWarning: This implementation of AdamW is deprecated and will be removed in a future version. Use thePyTorch implementation torch.optim.AdamW instead, or set `no_deprecation_warning=True` to disable this warning\n",
      "  warnings.warn(\n"
     ]
    },
    {
     "name": "stdout",
     "output_type": "stream",
     "text": [
      "6\n",
      "225\n",
      "Current SEED: 0 TEST F1 0\n"
     ]
    },
    {
     "name": "stderr",
     "output_type": "stream",
     "text": [
      "Token indices sequence length is longer than the specified maximum sequence length for this model (557 > 512). Running this sequence through the model will result in indexing errors\n",
      "tokenizing: 2it [00:00, 967.10it/s]\n",
      "tokenizing: 2it [00:00, 1095.55it/s]\n",
      "tokenizing: 72it [00:00, 2315.36it/s]\n",
      "/home/zhiyuan/ENTER/lib/python3.9/site-packages/transformers/optimization.py:306: FutureWarning: This implementation of AdamW is deprecated and will be removed in a future version. Use thePyTorch implementation torch.optim.AdamW instead, or set `no_deprecation_warning=True` to disable this warning\n",
      "  warnings.warn(\n"
     ]
    },
    {
     "name": "stdout",
     "output_type": "stream",
     "text": [
      "6\n",
      "225\n",
      "Current SEED: 1 TEST F1 0.7256637168141593\n"
     ]
    },
    {
     "name": "stderr",
     "output_type": "stream",
     "text": [
      "tokenizing: 2it [00:00, 2011.17it/s]\n",
      "tokenizing: 2it [00:00, 1821.23it/s]\n",
      "tokenizing: 72it [00:00, 2214.12it/s]\n",
      "/home/zhiyuan/ENTER/lib/python3.9/site-packages/transformers/optimization.py:306: FutureWarning: This implementation of AdamW is deprecated and will be removed in a future version. Use thePyTorch implementation torch.optim.AdamW instead, or set `no_deprecation_warning=True` to disable this warning\n",
      "  warnings.warn(\n"
     ]
    },
    {
     "name": "stdout",
     "output_type": "stream",
     "text": [
      "6\n",
      "225\n",
      "Current SEED: 13 TEST F1 0.6972477064220183\n"
     ]
    },
    {
     "name": "stderr",
     "output_type": "stream",
     "text": [
      "tokenizing: 2it [00:00, 2321.14it/s]\n",
      "tokenizing: 2it [00:00, 1102.46it/s]\n",
      "tokenizing: 72it [00:00, 2183.46it/s]\n",
      "/home/zhiyuan/ENTER/lib/python3.9/site-packages/transformers/optimization.py:306: FutureWarning: This implementation of AdamW is deprecated and will be removed in a future version. Use thePyTorch implementation torch.optim.AdamW instead, or set `no_deprecation_warning=True` to disable this warning\n",
      "  warnings.warn(\n"
     ]
    },
    {
     "name": "stdout",
     "output_type": "stream",
     "text": [
      "6\n",
      "225\n",
      "Current SEED: 41 TEST F1 0.47058823529411764\n"
     ]
    },
    {
     "name": "stderr",
     "output_type": "stream",
     "text": [
      "tokenizing: 2it [00:00, 1774.99it/s]\n",
      "tokenizing: 2it [00:00, 2165.36it/s]\n",
      "tokenizing: 72it [00:00, 2365.26it/s]\n",
      "/home/zhiyuan/ENTER/lib/python3.9/site-packages/transformers/optimization.py:306: FutureWarning: This implementation of AdamW is deprecated and will be removed in a future version. Use thePyTorch implementation torch.optim.AdamW instead, or set `no_deprecation_warning=True` to disable this warning\n",
      "  warnings.warn(\n"
     ]
    },
    {
     "name": "stdout",
     "output_type": "stream",
     "text": [
      "6\n",
      "225\n",
      "Current SEED: 123 TEST F1 0.7256637168141593\n"
     ]
    },
    {
     "name": "stderr",
     "output_type": "stream",
     "text": [
      "tokenizing: 2it [00:00, 2441.39it/s]\n",
      "tokenizing: 2it [00:00, 2002.53it/s]\n",
      "tokenizing: 72it [00:00, 2274.95it/s]\n",
      "/home/zhiyuan/ENTER/lib/python3.9/site-packages/transformers/optimization.py:306: FutureWarning: This implementation of AdamW is deprecated and will be removed in a future version. Use thePyTorch implementation torch.optim.AdamW instead, or set `no_deprecation_warning=True` to disable this warning\n",
      "  warnings.warn(\n"
     ]
    },
    {
     "name": "stdout",
     "output_type": "stream",
     "text": [
      "6\n",
      "225\n",
      "Current SEED: 456 TEST F1 0.7058823529411764\n"
     ]
    },
    {
     "name": "stderr",
     "output_type": "stream",
     "text": [
      "tokenizing: 2it [00:00, 1944.51it/s]\n",
      "tokenizing: 2it [00:00, 2286.97it/s]\n",
      "tokenizing: 72it [00:00, 2466.59it/s]\n",
      "/home/zhiyuan/ENTER/lib/python3.9/site-packages/transformers/optimization.py:306: FutureWarning: This implementation of AdamW is deprecated and will be removed in a future version. Use thePyTorch implementation torch.optim.AdamW instead, or set `no_deprecation_warning=True` to disable this warning\n",
      "  warnings.warn(\n"
     ]
    },
    {
     "name": "stdout",
     "output_type": "stream",
     "text": [
      "6\n",
      "225\n",
      "Current SEED: 999 TEST F1 0.7256637168141593\n",
      "0.612 $\\pm$ 0.217\n"
     ]
    },
    {
     "name": "stderr",
     "output_type": "stream",
     "text": [
      "tokenizing: 2it [00:00, 1671.04it/s]\n",
      "tokenizing: 2it [00:00, 2163.69it/s]\n",
      "tokenizing: 72it [00:00, 2206.32it/s]\n",
      "/home/zhiyuan/ENTER/lib/python3.9/site-packages/transformers/optimization.py:306: FutureWarning: This implementation of AdamW is deprecated and will be removed in a future version. Use thePyTorch implementation torch.optim.AdamW instead, or set `no_deprecation_warning=True` to disable this warning\n",
      "  warnings.warn(\n"
     ]
    },
    {
     "name": "stdout",
     "output_type": "stream",
     "text": [
      "6\n",
      "216\n",
      "Current SEED: 321 TEST F1 0.6285714285714286\n"
     ]
    },
    {
     "name": "stderr",
     "output_type": "stream",
     "text": [
      "tokenizing: 2it [00:00, 1726.76it/s]\n",
      "tokenizing: 2it [00:00, 1833.58it/s]\n",
      "tokenizing: 72it [00:00, 2387.95it/s]\n",
      "/home/zhiyuan/ENTER/lib/python3.9/site-packages/transformers/optimization.py:306: FutureWarning: This implementation of AdamW is deprecated and will be removed in a future version. Use thePyTorch implementation torch.optim.AdamW instead, or set `no_deprecation_warning=True` to disable this warning\n",
      "  warnings.warn(\n"
     ]
    },
    {
     "name": "stdout",
     "output_type": "stream",
     "text": [
      "6\n",
      "216\n",
      "Current SEED: 42 TEST F1 0.6285714285714286\n"
     ]
    },
    {
     "name": "stderr",
     "output_type": "stream",
     "text": [
      "tokenizing: 2it [00:00, 1317.72it/s]\n",
      "tokenizing: 2it [00:00, 1271.77it/s]\n",
      "tokenizing: 72it [00:00, 2353.36it/s]\n",
      "/home/zhiyuan/ENTER/lib/python3.9/site-packages/transformers/optimization.py:306: FutureWarning: This implementation of AdamW is deprecated and will be removed in a future version. Use thePyTorch implementation torch.optim.AdamW instead, or set `no_deprecation_warning=True` to disable this warning\n",
      "  warnings.warn(\n"
     ]
    },
    {
     "name": "stdout",
     "output_type": "stream",
     "text": [
      "6\n",
      "216\n",
      "Current SEED: 1024 TEST F1 0.6138613861386139\n"
     ]
    },
    {
     "name": "stderr",
     "output_type": "stream",
     "text": [
      "tokenizing: 2it [00:00, 1455.85it/s]\n",
      "tokenizing: 2it [00:00, 1099.71it/s]\n",
      "tokenizing: 72it [00:00, 2384.29it/s]\n",
      "/home/zhiyuan/ENTER/lib/python3.9/site-packages/transformers/optimization.py:306: FutureWarning: This implementation of AdamW is deprecated and will be removed in a future version. Use thePyTorch implementation torch.optim.AdamW instead, or set `no_deprecation_warning=True` to disable this warning\n",
      "  warnings.warn(\n"
     ]
    },
    {
     "name": "stdout",
     "output_type": "stream",
     "text": [
      "6\n",
      "216\n",
      "Current SEED: 0 TEST F1 0.6285714285714286\n"
     ]
    },
    {
     "name": "stderr",
     "output_type": "stream",
     "text": [
      "tokenizing: 2it [00:00, 1377.89it/s]\n",
      "tokenizing: 2it [00:00, 1486.81it/s]\n",
      "tokenizing: 72it [00:00, 2304.90it/s]\n",
      "/home/zhiyuan/ENTER/lib/python3.9/site-packages/transformers/optimization.py:306: FutureWarning: This implementation of AdamW is deprecated and will be removed in a future version. Use thePyTorch implementation torch.optim.AdamW instead, or set `no_deprecation_warning=True` to disable this warning\n",
      "  warnings.warn(\n"
     ]
    },
    {
     "name": "stdout",
     "output_type": "stream",
     "text": [
      "6\n",
      "216\n",
      "Current SEED: 1 TEST F1 0.6285714285714286\n"
     ]
    },
    {
     "name": "stderr",
     "output_type": "stream",
     "text": [
      "tokenizing: 2it [00:00, 1988.29it/s]\n",
      "tokenizing: 2it [00:00, 2303.93it/s]\n",
      "tokenizing: 72it [00:00, 2472.21it/s]\n",
      "/home/zhiyuan/ENTER/lib/python3.9/site-packages/transformers/optimization.py:306: FutureWarning: This implementation of AdamW is deprecated and will be removed in a future version. Use thePyTorch implementation torch.optim.AdamW instead, or set `no_deprecation_warning=True` to disable this warning\n",
      "  warnings.warn(\n"
     ]
    },
    {
     "name": "stdout",
     "output_type": "stream",
     "text": [
      "6\n",
      "216\n",
      "Current SEED: 13 TEST F1 0.6285714285714286\n"
     ]
    },
    {
     "name": "stderr",
     "output_type": "stream",
     "text": [
      "tokenizing: 2it [00:00, 1634.57it/s]\n",
      "tokenizing: 2it [00:00, 2173.21it/s]\n",
      "tokenizing: 72it [00:00, 2383.32it/s]\n",
      "/home/zhiyuan/ENTER/lib/python3.9/site-packages/transformers/optimization.py:306: FutureWarning: This implementation of AdamW is deprecated and will be removed in a future version. Use thePyTorch implementation torch.optim.AdamW instead, or set `no_deprecation_warning=True` to disable this warning\n",
      "  warnings.warn(\n"
     ]
    },
    {
     "name": "stdout",
     "output_type": "stream",
     "text": [
      "6\n",
      "216\n",
      "Current SEED: 41 TEST F1 0.6285714285714286\n"
     ]
    },
    {
     "name": "stderr",
     "output_type": "stream",
     "text": [
      "Token indices sequence length is longer than the specified maximum sequence length for this model (557 > 512). Running this sequence through the model will result in indexing errors\n",
      "tokenizing: 2it [00:00, 1786.33it/s]\n",
      "tokenizing: 2it [00:00, 2601.93it/s]\n",
      "tokenizing: 72it [00:00, 2103.05it/s]\n",
      "/home/zhiyuan/ENTER/lib/python3.9/site-packages/transformers/optimization.py:306: FutureWarning: This implementation of AdamW is deprecated and will be removed in a future version. Use thePyTorch implementation torch.optim.AdamW instead, or set `no_deprecation_warning=True` to disable this warning\n",
      "  warnings.warn(\n"
     ]
    },
    {
     "name": "stdout",
     "output_type": "stream",
     "text": [
      "6\n",
      "216\n",
      "Current SEED: 123 TEST F1 0.6285714285714286\n"
     ]
    },
    {
     "name": "stderr",
     "output_type": "stream",
     "text": [
      "tokenizing: 2it [00:00, 2223.92it/s]\n",
      "tokenizing: 2it [00:00, 2235.17it/s]\n",
      "tokenizing: 72it [00:00, 2232.53it/s]\n",
      "/home/zhiyuan/ENTER/lib/python3.9/site-packages/transformers/optimization.py:306: FutureWarning: This implementation of AdamW is deprecated and will be removed in a future version. Use thePyTorch implementation torch.optim.AdamW instead, or set `no_deprecation_warning=True` to disable this warning\n",
      "  warnings.warn(\n"
     ]
    },
    {
     "name": "stdout",
     "output_type": "stream",
     "text": [
      "6\n",
      "216\n",
      "Current SEED: 456 TEST F1 0.6285714285714286\n"
     ]
    },
    {
     "name": "stderr",
     "output_type": "stream",
     "text": [
      "Token indices sequence length is longer than the specified maximum sequence length for this model (557 > 512). Running this sequence through the model will result in indexing errors\n",
      "tokenizing: 2it [00:00, 2050.00it/s]\n",
      "tokenizing: 2it [00:00, 1445.07it/s]\n",
      "tokenizing: 72it [00:00, 1993.08it/s]\n",
      "/home/zhiyuan/ENTER/lib/python3.9/site-packages/transformers/optimization.py:306: FutureWarning: This implementation of AdamW is deprecated and will be removed in a future version. Use thePyTorch implementation torch.optim.AdamW instead, or set `no_deprecation_warning=True` to disable this warning\n",
      "  warnings.warn(\n"
     ]
    },
    {
     "name": "stdout",
     "output_type": "stream",
     "text": [
      "6\n",
      "216\n",
      "Current SEED: 999 TEST F1 0.6285714285714286\n",
      "0.627 $\\pm$ 0.004\n"
     ]
    },
    {
     "name": "stderr",
     "output_type": "stream",
     "text": [
      "tokenizing: 2it [00:00, 1536.94it/s]\n",
      "tokenizing: 2it [00:00, 1489.98it/s]\n",
      "tokenizing: 72it [00:00, 2233.70it/s]\n",
      "/home/zhiyuan/ENTER/lib/python3.9/site-packages/transformers/optimization.py:306: FutureWarning: This implementation of AdamW is deprecated and will be removed in a future version. Use thePyTorch implementation torch.optim.AdamW instead, or set `no_deprecation_warning=True` to disable this warning\n",
      "  warnings.warn(\n"
     ]
    },
    {
     "name": "stdout",
     "output_type": "stream",
     "text": [
      "6\n",
      "213\n",
      "Current SEED: 321 TEST F1 0.6153846153846153\n"
     ]
    },
    {
     "name": "stderr",
     "output_type": "stream",
     "text": [
      "tokenizing: 2it [00:00, 1553.73it/s]\n",
      "tokenizing: 2it [00:00, 894.59it/s]\n",
      "tokenizing: 72it [00:00, 2211.60it/s]\n",
      "/home/zhiyuan/ENTER/lib/python3.9/site-packages/transformers/optimization.py:306: FutureWarning: This implementation of AdamW is deprecated and will be removed in a future version. Use thePyTorch implementation torch.optim.AdamW instead, or set `no_deprecation_warning=True` to disable this warning\n",
      "  warnings.warn(\n"
     ]
    },
    {
     "name": "stdout",
     "output_type": "stream",
     "text": [
      "6\n",
      "213\n",
      "Current SEED: 42 TEST F1 0.6213592233009708\n"
     ]
    },
    {
     "name": "stderr",
     "output_type": "stream",
     "text": [
      "tokenizing: 2it [00:00, 1846.49it/s]\n",
      "tokenizing: 2it [00:00, 1833.98it/s]\n",
      "tokenizing: 72it [00:00, 2412.31it/s]\n",
      "/home/zhiyuan/ENTER/lib/python3.9/site-packages/transformers/optimization.py:306: FutureWarning: This implementation of AdamW is deprecated and will be removed in a future version. Use thePyTorch implementation torch.optim.AdamW instead, or set `no_deprecation_warning=True` to disable this warning\n",
      "  warnings.warn(\n"
     ]
    },
    {
     "name": "stdout",
     "output_type": "stream",
     "text": [
      "6\n",
      "213\n",
      "Current SEED: 1024 TEST F1 0.6153846153846153\n"
     ]
    },
    {
     "name": "stderr",
     "output_type": "stream",
     "text": [
      "tokenizing: 2it [00:00, 1471.94it/s]\n",
      "tokenizing: 2it [00:00, 2011.17it/s]\n",
      "tokenizing: 72it [00:00, 2370.85it/s]\n",
      "/home/zhiyuan/ENTER/lib/python3.9/site-packages/transformers/optimization.py:306: FutureWarning: This implementation of AdamW is deprecated and will be removed in a future version. Use thePyTorch implementation torch.optim.AdamW instead, or set `no_deprecation_warning=True` to disable this warning\n",
      "  warnings.warn(\n"
     ]
    },
    {
     "name": "stdout",
     "output_type": "stream",
     "text": [
      "6\n",
      "213\n",
      "Current SEED: 0 TEST F1 0.5531914893617021\n"
     ]
    },
    {
     "name": "stderr",
     "output_type": "stream",
     "text": [
      "tokenizing: 2it [00:00, 1821.23it/s]\n",
      "tokenizing: 2it [00:00, 1346.05it/s]\n",
      "tokenizing: 72it [00:00, 2520.07it/s]\n",
      "/home/zhiyuan/ENTER/lib/python3.9/site-packages/transformers/optimization.py:306: FutureWarning: This implementation of AdamW is deprecated and will be removed in a future version. Use thePyTorch implementation torch.optim.AdamW instead, or set `no_deprecation_warning=True` to disable this warning\n",
      "  warnings.warn(\n"
     ]
    },
    {
     "name": "stdout",
     "output_type": "stream",
     "text": [
      "6\n",
      "213\n",
      "Current SEED: 1 TEST F1 0.6213592233009708\n"
     ]
    },
    {
     "name": "stderr",
     "output_type": "stream",
     "text": [
      "tokenizing: 2it [00:00, 1628.22it/s]\n",
      "tokenizing: 2it [00:00, 2222.74it/s]\n",
      "tokenizing: 72it [00:00, 2339.05it/s]\n",
      "/home/zhiyuan/ENTER/lib/python3.9/site-packages/transformers/optimization.py:306: FutureWarning: This implementation of AdamW is deprecated and will be removed in a future version. Use thePyTorch implementation torch.optim.AdamW instead, or set `no_deprecation_warning=True` to disable this warning\n",
      "  warnings.warn(\n"
     ]
    },
    {
     "name": "stdout",
     "output_type": "stream",
     "text": [
      "6\n",
      "213\n",
      "Current SEED: 13 TEST F1 0\n"
     ]
    },
    {
     "name": "stderr",
     "output_type": "stream",
     "text": [
      "tokenizing: 2it [00:00, 2105.57it/s]\n",
      "tokenizing: 2it [00:00, 1586.05it/s]\n",
      "tokenizing: 72it [00:00, 2292.79it/s]\n",
      "/home/zhiyuan/ENTER/lib/python3.9/site-packages/transformers/optimization.py:306: FutureWarning: This implementation of AdamW is deprecated and will be removed in a future version. Use thePyTorch implementation torch.optim.AdamW instead, or set `no_deprecation_warning=True` to disable this warning\n",
      "  warnings.warn(\n"
     ]
    },
    {
     "name": "stdout",
     "output_type": "stream",
     "text": [
      "6\n",
      "213\n",
      "Current SEED: 41 TEST F1 0.6153846153846153\n"
     ]
    },
    {
     "name": "stderr",
     "output_type": "stream",
     "text": [
      "tokenizing: 2it [00:00, 1268.69it/s]\n",
      "tokenizing: 2it [00:00, 1810.62it/s]\n",
      "tokenizing: 72it [00:00, 2206.21it/s]\n",
      "/home/zhiyuan/ENTER/lib/python3.9/site-packages/transformers/optimization.py:306: FutureWarning: This implementation of AdamW is deprecated and will be removed in a future version. Use thePyTorch implementation torch.optim.AdamW instead, or set `no_deprecation_warning=True` to disable this warning\n",
      "  warnings.warn(\n"
     ]
    },
    {
     "name": "stdout",
     "output_type": "stream",
     "text": [
      "6\n",
      "213\n",
      "Current SEED: 123 TEST F1 0.6153846153846153\n"
     ]
    },
    {
     "name": "stderr",
     "output_type": "stream",
     "text": [
      "tokenizing: 2it [00:00, 1670.37it/s]\n",
      "tokenizing: 2it [00:00, 2261.69it/s]\n",
      "tokenizing: 72it [00:00, 2151.68it/s]\n",
      "/home/zhiyuan/ENTER/lib/python3.9/site-packages/transformers/optimization.py:306: FutureWarning: This implementation of AdamW is deprecated and will be removed in a future version. Use thePyTorch implementation torch.optim.AdamW instead, or set `no_deprecation_warning=True` to disable this warning\n",
      "  warnings.warn(\n"
     ]
    },
    {
     "name": "stdout",
     "output_type": "stream",
     "text": [
      "6\n",
      "213\n",
      "Current SEED: 456 TEST F1 0.6153846153846153\n"
     ]
    },
    {
     "name": "stderr",
     "output_type": "stream",
     "text": [
      "tokenizing: 2it [00:00, 1525.76it/s]\n",
      "tokenizing: 2it [00:00, 1873.29it/s]\n",
      "tokenizing: 72it [00:00, 2244.24it/s]\n",
      "/home/zhiyuan/ENTER/lib/python3.9/site-packages/transformers/optimization.py:306: FutureWarning: This implementation of AdamW is deprecated and will be removed in a future version. Use thePyTorch implementation torch.optim.AdamW instead, or set `no_deprecation_warning=True` to disable this warning\n",
      "  warnings.warn(\n"
     ]
    },
    {
     "name": "stdout",
     "output_type": "stream",
     "text": [
      "6\n",
      "213\n",
      "Current SEED: 999 TEST F1 0\n",
      "0.487 $\\pm$ 0.244\n"
     ]
    },
    {
     "name": "stderr",
     "output_type": "stream",
     "text": [
      "tokenizing: 2it [00:00, 2528.97it/s]\n",
      "tokenizing: 2it [00:00, 1414.37it/s]\n",
      "tokenizing: 72it [00:00, 2327.28it/s]\n",
      "/home/zhiyuan/ENTER/lib/python3.9/site-packages/transformers/optimization.py:306: FutureWarning: This implementation of AdamW is deprecated and will be removed in a future version. Use thePyTorch implementation torch.optim.AdamW instead, or set `no_deprecation_warning=True` to disable this warning\n",
      "  warnings.warn(\n"
     ]
    },
    {
     "name": "stdout",
     "output_type": "stream",
     "text": [
      "6\n",
      "249\n",
      "Current SEED: 321 TEST F1 0.4285714285714286\n"
     ]
    },
    {
     "name": "stderr",
     "output_type": "stream",
     "text": [
      "tokenizing: 2it [00:00, 2043.51it/s]\n",
      "tokenizing: 2it [00:00, 2133.42it/s]\n",
      "tokenizing: 72it [00:00, 2173.78it/s]\n",
      "/home/zhiyuan/ENTER/lib/python3.9/site-packages/transformers/optimization.py:306: FutureWarning: This implementation of AdamW is deprecated and will be removed in a future version. Use thePyTorch implementation torch.optim.AdamW instead, or set `no_deprecation_warning=True` to disable this warning\n",
      "  warnings.warn(\n"
     ]
    },
    {
     "name": "stdout",
     "output_type": "stream",
     "text": [
      "6\n",
      "249\n",
      "Current SEED: 42 TEST F1 0\n"
     ]
    }
   ],
   "source": [
    "import pandas as pd\n",
    "import numpy as np\n",
    "from verbalizer import ManualVerbalizer\n",
    "# Load Data, Utterance & Label:\n",
    "\n",
    "\n",
    "def evaluation(validation_dataloader):\n",
    "    prompt_model.eval()\n",
    "    labels_list = np.array([])\n",
    "    pred_list = np.array([])\n",
    "    for step, inputs in enumerate(validation_dataloader):\n",
    "        if use_cuda:\n",
    "            inputs = inputs.cuda()\n",
    "        logits = prompt_model(inputs)\n",
    "        labels = inputs['label']\n",
    "        preds  = torch.argmax(logits, dim=-1).cpu().tolist()\n",
    "        labels_list = np.append(labels.cpu().tolist(), labels_list)\n",
    "        pred_list = np.append(preds, pred_list)\n",
    "    return f1_score(labels_list, pred_list)\n",
    "\n",
    "for personality in ['A', 'C', 'E', 'O', 'N']:\n",
    "    df_data = pd.read_csv('data/Friends_'+personality+'_whole.tsv', sep = '\\t')\n",
    "    df = df_data[['utterance', 'labels']]\n",
    "    df_verbalizer = pd.read_csv('big_five_cleaned.tsv', sep='\\t')\n",
    "    pos = [a.lower() for a in list(df_verbalizer['word'][df_verbalizer[personality]>0])]\n",
    "    neg = [a.lower() for a in list(df_verbalizer['word'][df_verbalizer[personality]<0])]\n",
    "\n",
    "    seeds =  [321, 42, 1024, 0, 1, 13, 41, 123, 456, 999]\n",
    "    best_f1s = []\n",
    "    for SEED in seeds:\n",
    "        \n",
    "        # Train test split:\n",
    "        from sklearn.model_selection import train_test_split\n",
    "        Uttr_train, Uttr_test, label_train, label_test = \\\n",
    "            train_test_split(df['utterance'], df['labels'], test_size=0.1, random_state=SEED, stratify=df['labels'])\n",
    "\n",
    "        Uttr_train, Uttr_valid, label_train, label_valid = \\\n",
    "            train_test_split(Uttr_train, label_train, test_size=0.1, random_state=SEED, stratify=label_train)\n",
    "\n",
    "\n",
    "        # Construct Samples\n",
    "        from openprompt.data_utils import InputExample\n",
    "        dataset = {}\n",
    "        for split in ['train', 'validation', 'test']:\n",
    "            dataset[split] = []\n",
    "            cnt = 0\n",
    "            if split == 'train':\n",
    "                for u,l in zip(Uttr_train, label_train):\n",
    "                    input_sample = InputExample(text_a=u, label=int(l),guid=cnt)\n",
    "                    cnt += 1\n",
    "                    dataset[split].append(input_sample)\n",
    "            elif split == 'validation':\n",
    "                for u,l in zip(Uttr_valid, label_valid):\n",
    "                    input_sample = InputExample(text_a=u, label=int(l),guid=cnt)\n",
    "                    cnt += 1\n",
    "                    dataset[split].append(input_sample)\n",
    "            elif split == 'test':\n",
    "                for u,l in zip(Uttr_test, label_test):\n",
    "                    input_sample = InputExample(text_a=u, label=int(l),guid=cnt)\n",
    "                    cnt += 1\n",
    "                    dataset[split].append(input_sample)\n",
    "        \n",
    "        \n",
    "        SHOT = 1\n",
    "        from openprompt.data_utils.data_sampler import FewShotSampler\n",
    "        sampler = FewShotSampler(num_examples_per_label=SHOT, also_sample_dev=True, num_examples_per_label_dev=SHOT)\n",
    "        dataset['train'], dataset['validation'] = sampler(dataset['train'], seed=SEED)\n",
    "\n",
    "\n",
    "        # Base Model\n",
    "        from openprompt.plms import load_plm\n",
    "        # plm, tokenizer, model_config, WrapperClass = load_plm(\"bert\", \"bert-base-cased\")\n",
    "        plm, tokenizer, model_config, WrapperClass = load_plm(\"roberta\", \"roberta-base\")\n",
    "        # plm, tokenizer, model_config, WrapperClass = load_plm(\"roberta\", \"roberta-large\")\n",
    "\n",
    "        ## Construct Template and Wrapping\n",
    "        '''\n",
    "        #############\n",
    "        #############\n",
    "        #############\n",
    "        '''\n",
    "        \n",
    "        # ***** Manual Template *****\n",
    "        \n",
    "        from openprompt.prompts import ManualTemplate\n",
    "        mytemplate = ManualTemplate(\n",
    "            text = '{\"placeholder\":\"text_a\"} I am a {\"mask\"} person',\n",
    "            tokenizer = tokenizer,\n",
    "        )\n",
    "        \n",
    "        # ***** Soft(Mixed) Templeate *****\n",
    "        '''\n",
    "        from openprompt.prompts import MixedTemplate\n",
    "        mytemplate = MixedTemplate(\n",
    "            model = plm, \n",
    "            tokenizer = tokenizer,\n",
    "            text='{\"placeholder\":\"text_a\"} {\"soft\": \"He is\"} {\"mask\"} {\"soft\": \"person\"}.')\n",
    "        '''\n",
    "        \n",
    "        # ***** P tuning Templeate *****\n",
    "        '''\n",
    "        from openprompt.prompts import PtuningTemplate\n",
    "        mytemplate = PtuningTemplate(\n",
    "            model = plm, \n",
    "            tokenizer = tokenizer,\n",
    "        '''\n",
    "        wrapped_example = mytemplate.wrap_one_example(dataset['train'][0])\n",
    "        wrapped_tokenizer = WrapperClass(max_seq_length=128, tokenizer=tokenizer,truncate_method=\"head\")\n",
    "\n",
    "\n",
    "        model_inputs = {}\n",
    "        for split in ['train', 'validation', 'test']:\n",
    "            model_inputs[split] = []\n",
    "            for sample in dataset[split]:\n",
    "                tokenized_example = wrapped_tokenizer.tokenize_one_example(mytemplate.wrap_one_example(sample), teacher_forcing=False)\n",
    "                model_inputs[split].append(tokenized_example)\n",
    "\n",
    "\n",
    "        ## Data Loader\n",
    "        from openprompt import PromptDataLoader\n",
    "        batch_size = 1\n",
    "        train_dataloader = PromptDataLoader(dataset=dataset[\"train\"], template=mytemplate, tokenizer=tokenizer,\n",
    "            tokenizer_wrapper_class=WrapperClass, max_seq_length=128, \n",
    "            batch_size=batch_size, shuffle=True, teacher_forcing=False, predict_eos_token=False,\n",
    "            truncate_method=\"head\")\n",
    "\n",
    "        validation_dataloader = PromptDataLoader(dataset=dataset[\"validation\"], template=mytemplate, tokenizer=tokenizer,\n",
    "            tokenizer_wrapper_class=WrapperClass, max_seq_length=128,\n",
    "            batch_size=batch_size, shuffle=False, teacher_forcing=False, predict_eos_token=False,\n",
    "            truncate_method=\"head\")\n",
    "\n",
    "        test_dataloader = PromptDataLoader(dataset=dataset[\"test\"], template=mytemplate, tokenizer=tokenizer,\n",
    "            tokenizer_wrapper_class=WrapperClass, max_seq_length=128,\n",
    "            batch_size=batch_size, shuffle=False, teacher_forcing=False, predict_eos_token=False,\n",
    "            truncate_method=\"head\")\n",
    "\n",
    "\n",
    "        ## Construct Verbalizer\n",
    "        '''\n",
    "        #############\n",
    "        #############\n",
    "        #############\n",
    "        '''\n",
    "        # from openprompt.prompts import ManualVerbalizer\n",
    "        import torch\n",
    "\n",
    "        classes = [0,1]\n",
    "        # https://www.psychometric-assessment.com/the-lexical-hypothesis-and-factor-models/\n",
    "        \n",
    "        \n",
    "        \n",
    "        myverbalizer = ManualVerbalizer(\n",
    "                            classes = classes,\n",
    "                            label_words = {\n",
    "                                0 : neg, \n",
    "                                1 : pos\n",
    "                            },\n",
    "                            tokenizer=tokenizer)\n",
    "        \n",
    "        logits = torch.randn(2,len(tokenizer)) # creating a pseudo output from the plm, and\n",
    "\n",
    "        from openprompt import PromptForClassification\n",
    "        use_cuda = True\n",
    "        prompt_model = PromptForClassification(plm=plm, template=mytemplate, verbalizer=myverbalizer, freeze_plm=False)\n",
    "        if use_cuda:\n",
    "            prompt_model =  prompt_model.cuda()\n",
    "\n",
    "        from transformers import  AdamW, get_linear_schedule_with_warmup\n",
    "        from sklearn.metrics import f1_score\n",
    "        from sklearn.metrics import confusion_matrix, classification_report\n",
    "\n",
    "        loss_func = torch.nn.CrossEntropyLoss()\n",
    "        no_decay = ['bias', 'LayerNorm.weight']\n",
    "        # it's always good practice to set no decay to biase and LayerNorm parameters\n",
    "        \n",
    "        # for name, param in prompt_model.named_parameters(): \n",
    "        #     print(name)\n",
    "        \n",
    "        optimizer_grouped_parameters = [\n",
    "            {'params': [p for n, p in prompt_model.named_parameters() if not any(nd in n for nd in no_decay)], 'weight_decay': 0.01},\n",
    "            {'params': [p for n, p in prompt_model.named_parameters() if any(nd in n for nd in no_decay)], 'weight_decay': 0.0}\n",
    "        ]\n",
    "\n",
    "\n",
    "        ## Training\n",
    "        '''\n",
    "        #############\n",
    "        #############\n",
    "        #############\n",
    "        '''\n",
    "        best_eval = 0\n",
    "        best_test = 0\n",
    "        optimizer = AdamW(optimizer_grouped_parameters, lr=1e-5)\n",
    "        prompt_model.train()\n",
    "        for epoch in range(3):\n",
    "            tot_loss = 0\n",
    "            for step, inputs in enumerate(train_dataloader):\n",
    "                if use_cuda:\n",
    "                    inputs = inputs.cuda()\n",
    "                logits = prompt_model(inputs)\n",
    "                labels = inputs['label']\n",
    "                loss = loss_func(logits, labels)\n",
    "                loss.backward()\n",
    "                tot_loss += loss.item()\n",
    "                optimizer.step()\n",
    "                optimizer.zero_grad()\n",
    "                if step % 5 == 0: # if step % 100 == 1:\n",
    "                    eval_f1 = evaluation(validation_dataloader)\n",
    "                    if eval_f1 > best_eval:\n",
    "                        best_eval = eval_f1\n",
    "                        best_test = evaluation(test_dataloader)\n",
    "                    prompt_model.train()\n",
    "        print('Current SEED:', SEED, 'TEST F1', best_test)\n",
    "        best_f1s.append(best_test)\n",
    "\n",
    "    print(round(np.mean(best_f1s), 3), '$\\pm$', round(np.std(best_f1s), 3))\n"
   ]
  },
  {
   "cell_type": "code",
   "execution_count": 15,
   "id": "3a285780",
   "metadata": {},
   "outputs": [],
   "source": []
  },
  {
   "cell_type": "code",
   "execution_count": null,
   "id": "9343f5fb",
   "metadata": {},
   "outputs": [],
   "source": []
  }
 ],
 "metadata": {
  "kernelspec": {
   "display_name": "Python 3 (ipykernel)",
   "language": "python",
   "name": "python3"
  },
  "language_info": {
   "codemirror_mode": {
    "name": "ipython",
    "version": 3
   },
   "file_extension": ".py",
   "mimetype": "text/x-python",
   "name": "python",
   "nbconvert_exporter": "python",
   "pygments_lexer": "ipython3",
   "version": "3.9.7"
  }
 },
 "nbformat": 4,
 "nbformat_minor": 5
}
