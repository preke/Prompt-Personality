{
 "cells": [
  {
   "cell_type": "code",
   "execution_count": 1,
   "id": "2b835c26",
   "metadata": {},
   "outputs": [
    {
     "name": "stderr",
     "output_type": "stream",
     "text": [
      "Some weights of the model checkpoint at bert-base-cased were not used when initializing BertForMaskedLM: ['cls.seq_relationship.weight', 'cls.seq_relationship.bias']\n",
      "- This IS expected if you are initializing BertForMaskedLM from the checkpoint of a model trained on another task or with another architecture (e.g. initializing a BertForSequenceClassification model from a BertForPreTraining model).\n",
      "- This IS NOT expected if you are initializing BertForMaskedLM from the checkpoint of a model that you expect to be exactly identical (initializing a BertForSequenceClassification model from a BertForSequenceClassification model).\n",
      "Token indices sequence length is longer than the specified maximum sequence length for this model (578 > 512). Running this sequence through the model will result in indexing errors\n",
      "tokenizing: 575it [00:00, 1656.13it/s]\n",
      "tokenizing: 64it [00:00, 1712.18it/s]\n",
      "tokenizing: 72it [00:00, 1668.39it/s]\n",
      "/home/zhiyuan/ENTER/lib/python3.9/site-packages/transformers/optimization.py:306: FutureWarning: This implementation of AdamW is deprecated and will be removed in a future version. Use thePyTorch implementation torch.optim.AdamW instead, or set `no_deprecation_warning=True` to disable this warning\n",
      "  warnings.warn(\n"
     ]
    },
    {
     "name": "stdout",
     "output_type": "stream",
     "text": [
      "Current SEED: 321 TEST F1 0.6190476190476191\n"
     ]
    },
    {
     "name": "stderr",
     "output_type": "stream",
     "text": [
      "Some weights of the model checkpoint at bert-base-cased were not used when initializing BertForMaskedLM: ['cls.seq_relationship.weight', 'cls.seq_relationship.bias']\n",
      "- This IS expected if you are initializing BertForMaskedLM from the checkpoint of a model trained on another task or with another architecture (e.g. initializing a BertForSequenceClassification model from a BertForPreTraining model).\n",
      "- This IS NOT expected if you are initializing BertForMaskedLM from the checkpoint of a model that you expect to be exactly identical (initializing a BertForSequenceClassification model from a BertForSequenceClassification model).\n",
      "Token indices sequence length is longer than the specified maximum sequence length for this model (578 > 512). Running this sequence through the model will result in indexing errors\n",
      "tokenizing: 575it [00:00, 1636.23it/s]\n",
      "tokenizing: 64it [00:00, 1639.66it/s]\n",
      "tokenizing: 72it [00:00, 1533.62it/s]\n",
      "/home/zhiyuan/ENTER/lib/python3.9/site-packages/transformers/optimization.py:306: FutureWarning: This implementation of AdamW is deprecated and will be removed in a future version. Use thePyTorch implementation torch.optim.AdamW instead, or set `no_deprecation_warning=True` to disable this warning\n",
      "  warnings.warn(\n"
     ]
    },
    {
     "name": "stdout",
     "output_type": "stream",
     "text": [
      "Current SEED: 42 TEST F1 0.6732673267326732\n"
     ]
    },
    {
     "name": "stderr",
     "output_type": "stream",
     "text": [
      "Some weights of the model checkpoint at bert-base-cased were not used when initializing BertForMaskedLM: ['cls.seq_relationship.weight', 'cls.seq_relationship.bias']\n",
      "- This IS expected if you are initializing BertForMaskedLM from the checkpoint of a model trained on another task or with another architecture (e.g. initializing a BertForSequenceClassification model from a BertForPreTraining model).\n",
      "- This IS NOT expected if you are initializing BertForMaskedLM from the checkpoint of a model that you expect to be exactly identical (initializing a BertForSequenceClassification model from a BertForSequenceClassification model).\n",
      "Token indices sequence length is longer than the specified maximum sequence length for this model (578 > 512). Running this sequence through the model will result in indexing errors\n",
      "tokenizing: 575it [00:00, 1637.49it/s]\n",
      "tokenizing: 64it [00:00, 1591.80it/s]\n",
      "tokenizing: 72it [00:00, 1780.17it/s]\n",
      "/home/zhiyuan/ENTER/lib/python3.9/site-packages/transformers/optimization.py:306: FutureWarning: This implementation of AdamW is deprecated and will be removed in a future version. Use thePyTorch implementation torch.optim.AdamW instead, or set `no_deprecation_warning=True` to disable this warning\n",
      "  warnings.warn(\n"
     ]
    },
    {
     "name": "stdout",
     "output_type": "stream",
     "text": [
      "Current SEED: 1024 TEST F1 0.7256637168141593\n"
     ]
    },
    {
     "name": "stderr",
     "output_type": "stream",
     "text": [
      "Some weights of the model checkpoint at bert-base-cased were not used when initializing BertForMaskedLM: ['cls.seq_relationship.weight', 'cls.seq_relationship.bias']\n",
      "- This IS expected if you are initializing BertForMaskedLM from the checkpoint of a model trained on another task or with another architecture (e.g. initializing a BertForSequenceClassification model from a BertForPreTraining model).\n",
      "- This IS NOT expected if you are initializing BertForMaskedLM from the checkpoint of a model that you expect to be exactly identical (initializing a BertForSequenceClassification model from a BertForSequenceClassification model).\n",
      "Token indices sequence length is longer than the specified maximum sequence length for this model (578 > 512). Running this sequence through the model will result in indexing errors\n",
      "tokenizing: 575it [00:00, 1641.84it/s]\n",
      "tokenizing: 64it [00:00, 1926.52it/s]\n",
      "tokenizing: 72it [00:00, 1511.08it/s]\n",
      "/home/zhiyuan/ENTER/lib/python3.9/site-packages/transformers/optimization.py:306: FutureWarning: This implementation of AdamW is deprecated and will be removed in a future version. Use thePyTorch implementation torch.optim.AdamW instead, or set `no_deprecation_warning=True` to disable this warning\n",
      "  warnings.warn(\n"
     ]
    },
    {
     "name": "stdout",
     "output_type": "stream",
     "text": [
      "Current SEED: 0 TEST F1 0.7142857142857142\n"
     ]
    },
    {
     "name": "stderr",
     "output_type": "stream",
     "text": [
      "Some weights of the model checkpoint at bert-base-cased were not used when initializing BertForMaskedLM: ['cls.seq_relationship.weight', 'cls.seq_relationship.bias']\n",
      "- This IS expected if you are initializing BertForMaskedLM from the checkpoint of a model trained on another task or with another architecture (e.g. initializing a BertForSequenceClassification model from a BertForPreTraining model).\n",
      "- This IS NOT expected if you are initializing BertForMaskedLM from the checkpoint of a model that you expect to be exactly identical (initializing a BertForSequenceClassification model from a BertForSequenceClassification model).\n",
      "Token indices sequence length is longer than the specified maximum sequence length for this model (578 > 512). Running this sequence through the model will result in indexing errors\n",
      "tokenizing: 575it [00:00, 1659.23it/s]\n",
      "tokenizing: 64it [00:00, 1550.81it/s]\n",
      "tokenizing: 72it [00:00, 1675.84it/s]\n",
      "/home/zhiyuan/ENTER/lib/python3.9/site-packages/transformers/optimization.py:306: FutureWarning: This implementation of AdamW is deprecated and will be removed in a future version. Use thePyTorch implementation torch.optim.AdamW instead, or set `no_deprecation_warning=True` to disable this warning\n",
      "  warnings.warn(\n"
     ]
    },
    {
     "name": "stdout",
     "output_type": "stream",
     "text": [
      "Current SEED: 1 TEST F1 0.7142857142857142\n"
     ]
    },
    {
     "name": "stderr",
     "output_type": "stream",
     "text": [
      "Some weights of the model checkpoint at bert-base-cased were not used when initializing BertForMaskedLM: ['cls.seq_relationship.weight', 'cls.seq_relationship.bias']\n",
      "- This IS expected if you are initializing BertForMaskedLM from the checkpoint of a model trained on another task or with another architecture (e.g. initializing a BertForSequenceClassification model from a BertForPreTraining model).\n",
      "- This IS NOT expected if you are initializing BertForMaskedLM from the checkpoint of a model that you expect to be exactly identical (initializing a BertForSequenceClassification model from a BertForSequenceClassification model).\n",
      "Token indices sequence length is longer than the specified maximum sequence length for this model (578 > 512). Running this sequence through the model will result in indexing errors\n",
      "tokenizing: 575it [00:00, 1435.98it/s]\n",
      "tokenizing: 64it [00:00, 1686.70it/s]\n",
      "tokenizing: 72it [00:00, 1583.12it/s]\n",
      "/home/zhiyuan/ENTER/lib/python3.9/site-packages/transformers/optimization.py:306: FutureWarning: This implementation of AdamW is deprecated and will be removed in a future version. Use thePyTorch implementation torch.optim.AdamW instead, or set `no_deprecation_warning=True` to disable this warning\n",
      "  warnings.warn(\n"
     ]
    },
    {
     "name": "stdout",
     "output_type": "stream",
     "text": [
      "Current SEED: 13 TEST F1 0.7256637168141593\n"
     ]
    },
    {
     "name": "stderr",
     "output_type": "stream",
     "text": [
      "Some weights of the model checkpoint at bert-base-cased were not used when initializing BertForMaskedLM: ['cls.seq_relationship.weight', 'cls.seq_relationship.bias']\n",
      "- This IS expected if you are initializing BertForMaskedLM from the checkpoint of a model trained on another task or with another architecture (e.g. initializing a BertForSequenceClassification model from a BertForPreTraining model).\n",
      "- This IS NOT expected if you are initializing BertForMaskedLM from the checkpoint of a model that you expect to be exactly identical (initializing a BertForSequenceClassification model from a BertForSequenceClassification model).\n",
      "Token indices sequence length is longer than the specified maximum sequence length for this model (578 > 512). Running this sequence through the model will result in indexing errors\n",
      "tokenizing: 575it [00:00, 1650.14it/s]\n",
      "tokenizing: 64it [00:00, 1715.24it/s]\n",
      "tokenizing: 72it [00:00, 1585.74it/s]\n",
      "/home/zhiyuan/ENTER/lib/python3.9/site-packages/transformers/optimization.py:306: FutureWarning: This implementation of AdamW is deprecated and will be removed in a future version. Use thePyTorch implementation torch.optim.AdamW instead, or set `no_deprecation_warning=True` to disable this warning\n",
      "  warnings.warn(\n"
     ]
    },
    {
     "name": "stdout",
     "output_type": "stream",
     "text": [
      "Current SEED: 41 TEST F1 0.7321428571428571\n"
     ]
    },
    {
     "name": "stderr",
     "output_type": "stream",
     "text": [
      "Some weights of the model checkpoint at bert-base-cased were not used when initializing BertForMaskedLM: ['cls.seq_relationship.weight', 'cls.seq_relationship.bias']\n",
      "- This IS expected if you are initializing BertForMaskedLM from the checkpoint of a model trained on another task or with another architecture (e.g. initializing a BertForSequenceClassification model from a BertForPreTraining model).\n",
      "- This IS NOT expected if you are initializing BertForMaskedLM from the checkpoint of a model that you expect to be exactly identical (initializing a BertForSequenceClassification model from a BertForSequenceClassification model).\n",
      "Token indices sequence length is longer than the specified maximum sequence length for this model (578 > 512). Running this sequence through the model will result in indexing errors\n",
      "tokenizing: 575it [00:00, 1620.69it/s]\n",
      "tokenizing: 64it [00:00, 1720.31it/s]\n",
      "tokenizing: 72it [00:00, 1695.04it/s]\n",
      "/home/zhiyuan/ENTER/lib/python3.9/site-packages/transformers/optimization.py:306: FutureWarning: This implementation of AdamW is deprecated and will be removed in a future version. Use thePyTorch implementation torch.optim.AdamW instead, or set `no_deprecation_warning=True` to disable this warning\n",
      "  warnings.warn(\n"
     ]
    },
    {
     "name": "stdout",
     "output_type": "stream",
     "text": [
      "Current SEED: 123 TEST F1 0.6990291262135923\n"
     ]
    },
    {
     "name": "stderr",
     "output_type": "stream",
     "text": [
      "Some weights of the model checkpoint at bert-base-cased were not used when initializing BertForMaskedLM: ['cls.seq_relationship.weight', 'cls.seq_relationship.bias']\n",
      "- This IS expected if you are initializing BertForMaskedLM from the checkpoint of a model trained on another task or with another architecture (e.g. initializing a BertForSequenceClassification model from a BertForPreTraining model).\n",
      "- This IS NOT expected if you are initializing BertForMaskedLM from the checkpoint of a model that you expect to be exactly identical (initializing a BertForSequenceClassification model from a BertForSequenceClassification model).\n",
      "Token indices sequence length is longer than the specified maximum sequence length for this model (578 > 512). Running this sequence through the model will result in indexing errors\n",
      "tokenizing: 575it [00:00, 1677.81it/s]\n",
      "tokenizing: 64it [00:00, 1594.28it/s]\n",
      "tokenizing: 72it [00:00, 1679.35it/s]\n",
      "/home/zhiyuan/ENTER/lib/python3.9/site-packages/transformers/optimization.py:306: FutureWarning: This implementation of AdamW is deprecated and will be removed in a future version. Use thePyTorch implementation torch.optim.AdamW instead, or set `no_deprecation_warning=True` to disable this warning\n",
      "  warnings.warn(\n"
     ]
    },
    {
     "name": "stdout",
     "output_type": "stream",
     "text": [
      "Current SEED: 456 TEST F1 0.7289719626168225\n"
     ]
    },
    {
     "name": "stderr",
     "output_type": "stream",
     "text": [
      "Some weights of the model checkpoint at bert-base-cased were not used when initializing BertForMaskedLM: ['cls.seq_relationship.weight', 'cls.seq_relationship.bias']\n",
      "- This IS expected if you are initializing BertForMaskedLM from the checkpoint of a model trained on another task or with another architecture (e.g. initializing a BertForSequenceClassification model from a BertForPreTraining model).\n",
      "- This IS NOT expected if you are initializing BertForMaskedLM from the checkpoint of a model that you expect to be exactly identical (initializing a BertForSequenceClassification model from a BertForSequenceClassification model).\n",
      "Token indices sequence length is longer than the specified maximum sequence length for this model (578 > 512). Running this sequence through the model will result in indexing errors\n",
      "tokenizing: 575it [00:00, 1637.46it/s]\n",
      "tokenizing: 64it [00:00, 1619.54it/s]\n",
      "tokenizing: 72it [00:00, 1852.23it/s]\n",
      "/home/zhiyuan/ENTER/lib/python3.9/site-packages/transformers/optimization.py:306: FutureWarning: This implementation of AdamW is deprecated and will be removed in a future version. Use thePyTorch implementation torch.optim.AdamW instead, or set `no_deprecation_warning=True` to disable this warning\n",
      "  warnings.warn(\n"
     ]
    },
    {
     "name": "stdout",
     "output_type": "stream",
     "text": [
      "Current SEED: 999 TEST F1 0.7102803738317758\n"
     ]
    }
   ],
   "source": [
    "import pandas as pd\n",
    "import numpy as np\n",
    "\n",
    "# Load Data, Utterance & Label:\n",
    "df_data = pd.read_csv('../data/Friends_A_whole.tsv', sep = '\\t')\n",
    "df = df_data[['utterance', 'labels']]\n",
    "\n",
    "\n",
    "\n",
    "def evaluation(validation_dataloader):\n",
    "    prompt_model.eval()\n",
    "    labels_list = np.array([])\n",
    "    pred_list = np.array([])\n",
    "    for step, inputs in enumerate(validation_dataloader):\n",
    "        if use_cuda:\n",
    "            inputs = inputs.cuda()\n",
    "        logits = prompt_model(inputs)\n",
    "        labels = inputs['label']\n",
    "        preds  = torch.argmax(logits, dim=-1).cpu().tolist()\n",
    "        labels_list = np.append(labels.cpu().tolist(), labels_list)\n",
    "        pred_list = np.append(preds, pred_list)\n",
    "        \n",
    "        \n",
    "    \n",
    "    return f1_score(labels_list, pred_list)\n",
    "\n",
    "\n",
    "\n",
    "\n",
    "seeds =  [321, 42, 1024, 0, 1, 13, 41, 123, 456, 999]\n",
    "for SEED in seeds:\n",
    "    # Train test split:\n",
    "    from sklearn.model_selection import train_test_split\n",
    "    Uttr_train, Uttr_test, label_train, label_test = \\\n",
    "        train_test_split(df['utterance'], df['labels'], test_size=0.1, random_state=SEED, stratify=df['labels'])\n",
    "\n",
    "    Uttr_train, Uttr_valid, label_train, label_valid = \\\n",
    "        train_test_split(Uttr_train, label_train, test_size=0.1, random_state=SEED, stratify=label_train)\n",
    "\n",
    "\n",
    "    # Construct Samples\n",
    "    from openprompt.data_utils import InputExample\n",
    "    dataset = {}\n",
    "    for split in ['train', 'validation', 'test']:\n",
    "        dataset[split] = []\n",
    "        cnt = 0\n",
    "        if split == 'train':\n",
    "            for u,l in zip(Uttr_train, label_train):\n",
    "                input_sample = InputExample(text_a=u, label=int(l),guid=cnt)\n",
    "                cnt += 1\n",
    "                dataset[split].append(input_sample)\n",
    "        elif split == 'validation':\n",
    "            for u,l in zip(Uttr_valid, label_valid):\n",
    "                input_sample = InputExample(text_a=u, label=int(l),guid=cnt)\n",
    "                cnt += 1\n",
    "                dataset[split].append(input_sample)\n",
    "        elif split == 'test':\n",
    "            for u,l in zip(Uttr_test, label_test):\n",
    "                input_sample = InputExample(text_a=u, label=int(l),guid=cnt)\n",
    "                cnt += 1\n",
    "                dataset[split].append(input_sample)\n",
    "\n",
    "\n",
    "    # Base Model\n",
    "    from openprompt.plms import load_plm\n",
    "    plm, tokenizer, model_config, WrapperClass = load_plm(\"bert\", \"bert-base-cased\")\n",
    "\n",
    "\n",
    "\n",
    "    ## Construct Template and Wrapping\n",
    "    '''\n",
    "    #############\n",
    "    #############\n",
    "    #############\n",
    "    '''\n",
    "    from openprompt.prompts import ManualTemplate\n",
    "    mytemplate = ManualTemplate(\n",
    "        text = '{\"placeholder\":\"text_a\"} He is a {\"mask\"} person',\n",
    "        tokenizer = tokenizer,\n",
    "    )\n",
    "\n",
    "    wrapped_example = mytemplate.wrap_one_example(dataset['train'][0])\n",
    "    wrapped_tokenizer = WrapperClass(max_seq_length=128, tokenizer=tokenizer,truncate_method=\"head\")\n",
    "\n",
    "\n",
    "    model_inputs = {}\n",
    "    for split in ['train', 'validation', 'test']:\n",
    "        model_inputs[split] = []\n",
    "        for sample in dataset[split]:\n",
    "            tokenized_example = wrapped_tokenizer.tokenize_one_example(mytemplate.wrap_one_example(sample), teacher_forcing=False)\n",
    "            model_inputs[split].append(tokenized_example)\n",
    "\n",
    "\n",
    "    ## Data Loader\n",
    "    from openprompt import PromptDataLoader\n",
    "\n",
    "    train_dataloader = PromptDataLoader(dataset=dataset[\"train\"], template=mytemplate, tokenizer=tokenizer,\n",
    "        tokenizer_wrapper_class=WrapperClass, max_seq_length=128, \n",
    "        batch_size=16, shuffle=True, teacher_forcing=False, predict_eos_token=False,\n",
    "        truncate_method=\"head\")\n",
    "\n",
    "    validation_dataloader = PromptDataLoader(dataset=dataset[\"validation\"], template=mytemplate, tokenizer=tokenizer,\n",
    "        tokenizer_wrapper_class=WrapperClass, max_seq_length=128,\n",
    "        batch_size=16, shuffle=False, teacher_forcing=False, predict_eos_token=False,\n",
    "        truncate_method=\"head\")\n",
    "\n",
    "    test_dataloader = PromptDataLoader(dataset=dataset[\"test\"], template=mytemplate, tokenizer=tokenizer,\n",
    "        tokenizer_wrapper_class=WrapperClass, max_seq_length=128,\n",
    "        batch_size=16, shuffle=False, teacher_forcing=False, predict_eos_token=False,\n",
    "        truncate_method=\"head\")\n",
    "\n",
    "\n",
    "    ## Construct Verbalizer\n",
    "    '''\n",
    "    #############\n",
    "    #############\n",
    "    #############\n",
    "    '''\n",
    "    from openprompt.prompts import ManualVerbalizer\n",
    "    import torch\n",
    "\n",
    "    classes = [0,1]\n",
    "    # https://www.psychometric-assessment.com/the-lexical-hypothesis-and-factor-models/\n",
    "    myverbalizer = ManualVerbalizer(\n",
    "                        classes = classes,\n",
    "                        label_words = {\n",
    "                            0 : [\"disagreeable\", \"independent\",  \"dominant\", \"critical\", \"demanding\", \"detached\"], \n",
    "                            1 : [\"agreeable\", \"compassionate\", \"trusting\", \"compliant\", \"modest\", \"sensitive\"]\n",
    "                        },\n",
    "                        tokenizer=tokenizer)\n",
    "\n",
    "    logits = torch.randn(2, len(tokenizer)) # creating a pseudo output from the plm, and\n",
    "\n",
    "\n",
    "\n",
    "\n",
    "    from openprompt import PromptForClassification\n",
    "\n",
    "    use_cuda = True\n",
    "    prompt_model = PromptForClassification(plm=plm,template=mytemplate, verbalizer=myverbalizer, freeze_plm=False)\n",
    "    if use_cuda:\n",
    "        prompt_model =  prompt_model.cuda()\n",
    "\n",
    "\n",
    "\n",
    "    from transformers import  AdamW, get_linear_schedule_with_warmup\n",
    "    from sklearn.metrics import f1_score\n",
    "    from sklearn.metrics import confusion_matrix, classification_report\n",
    "\n",
    "    loss_func = torch.nn.CrossEntropyLoss()\n",
    "    no_decay = ['bias', 'LayerNorm.weight']\n",
    "    # it's always good practice to set no decay to biase and LayerNorm parameters\n",
    "    optimizer_grouped_parameters = [\n",
    "        {'params': [p for n, p in prompt_model.named_parameters() if not any(nd in n for nd in no_decay)], 'weight_decay': 0.01},\n",
    "        {'params': [p for n, p in prompt_model.named_parameters() if any(nd in n for nd in no_decay)], 'weight_decay': 0.0}\n",
    "    ]\n",
    "\n",
    "\n",
    "    ## Training\n",
    "    '''\n",
    "    #############\n",
    "    #############\n",
    "    #############\n",
    "    '''\n",
    "    best_eval = 0\n",
    "    best_test = 0\n",
    "    optimizer = AdamW(optimizer_grouped_parameters, lr=1e-5)\n",
    "    for epoch in range(10):\n",
    "        tot_loss = 0\n",
    "        for step, inputs in enumerate(train_dataloader):\n",
    "            if use_cuda:\n",
    "                inputs = inputs.cuda()\n",
    "            logits = prompt_model(inputs)\n",
    "            labels = inputs['label']\n",
    "            loss = loss_func(logits, labels)\n",
    "            loss.backward()\n",
    "            tot_loss += loss.item()\n",
    "            optimizer.step()\n",
    "            optimizer.zero_grad()\n",
    "            if step %100 == 1:\n",
    "                eval_f1 = evaluation(validation_dataloader)\n",
    "                if eval_f1 > best_eval:\n",
    "                    best_eval = eval_f1\n",
    "                    best_test = evaluation(test_dataloader)\n",
    "    print('Current SEED:', SEED, 'TEST F1', best_test)\n",
    "\n",
    "\n"
   ]
  },
  {
   "cell_type": "code",
   "execution_count": null,
   "id": "9343f5fb",
   "metadata": {},
   "outputs": [],
   "source": []
  }
 ],
 "metadata": {
  "kernelspec": {
   "display_name": "Python 3 (ipykernel)",
   "language": "python",
   "name": "python3"
  },
  "language_info": {
   "codemirror_mode": {
    "name": "ipython",
    "version": 3
   },
   "file_extension": ".py",
   "mimetype": "text/x-python",
   "name": "python",
   "nbconvert_exporter": "python",
   "pygments_lexer": "ipython3",
   "version": "3.9.7"
  }
 },
 "nbformat": 4,
 "nbformat_minor": 5
}
