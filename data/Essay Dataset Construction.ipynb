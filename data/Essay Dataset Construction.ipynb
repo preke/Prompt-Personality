{
 "cells": [
  {
   "cell_type": "code",
   "execution_count": 10,
   "id": "43cceeb4",
   "metadata": {
    "scrolled": true
   },
   "outputs": [],
   "source": [
    "import pandas as pd\n",
    "import numpy as np\n",
    "\n",
    "# read data\n",
    "eassy = pd.read_csv('essays.csv',sep = ',')\n",
    "essay = eassy[['TEXT','cEXT','cNEU','cAGR','cCON','cOPN']]\n",
    "df_essay = essay.rename(columns={'TEXT':'utterance'})"
   ]
  },
  {
   "cell_type": "code",
   "execution_count": 11,
   "id": "89bf5bb7",
   "metadata": {},
   "outputs": [
    {
     "data": {
      "text/html": [
       "<div>\n",
       "<style scoped>\n",
       "    .dataframe tbody tr th:only-of-type {\n",
       "        vertical-align: middle;\n",
       "    }\n",
       "\n",
       "    .dataframe tbody tr th {\n",
       "        vertical-align: top;\n",
       "    }\n",
       "\n",
       "    .dataframe thead th {\n",
       "        text-align: right;\n",
       "    }\n",
       "</style>\n",
       "<table border=\"1\" class=\"dataframe\">\n",
       "  <thead>\n",
       "    <tr style=\"text-align: right;\">\n",
       "      <th></th>\n",
       "      <th>AGR</th>\n",
       "      <th>CON</th>\n",
       "      <th>EXT</th>\n",
       "      <th>OPN</th>\n",
       "      <th>NEU</th>\n",
       "    </tr>\n",
       "  </thead>\n",
       "  <tbody>\n",
       "    <tr>\n",
       "      <th>0</th>\n",
       "      <td>1310</td>\n",
       "      <td>1253</td>\n",
       "      <td>1276</td>\n",
       "      <td>1271</td>\n",
       "      <td>1234</td>\n",
       "    </tr>\n",
       "    <tr>\n",
       "      <th>1</th>\n",
       "      <td>1157</td>\n",
       "      <td>1214</td>\n",
       "      <td>1191</td>\n",
       "      <td>1196</td>\n",
       "      <td>1233</td>\n",
       "    </tr>\n",
       "  </tbody>\n",
       "</table>\n",
       "</div>"
      ],
      "text/plain": [
       "    AGR   CON   EXT   OPN   NEU\n",
       "0  1310  1253  1276  1271  1234\n",
       "1  1157  1214  1191  1196  1233"
      ]
     },
     "execution_count": 11,
     "metadata": {},
     "output_type": "execute_result"
    }
   ],
   "source": [
    "# plot personality counts\n",
    "df_labels = df_essay[['cAGR','cCON','cEXT','cOPN','cNEU']]\n",
    "df_counts = pd.DataFrame([])\n",
    "df_counts['AGR'] = df_labels['cAGR'].value_counts().reset_index()['cAGR']\n",
    "df_counts['CON'] = df_labels['cCON'].value_counts().reset_index()['cCON']\n",
    "df_counts['EXT'] = df_labels['cEXT'].value_counts().reset_index()['cEXT']\n",
    "df_counts['OPN'] = df_labels['cOPN'].value_counts().reset_index()['cOPN']\n",
    "df_counts['NEU'] = df_labels['cNEU'].value_counts().reset_index()['cNEU']\n",
    "df_counts"
   ]
  },
  {
   "cell_type": "code",
   "execution_count": 26,
   "id": "e67f6849",
   "metadata": {},
   "outputs": [
    {
     "name": "stdout",
     "output_type": "stream",
     "text": [
      "         AGR    CON    EXT    OPN  NEU\n",
      "False  0.531  0.508  0.517  0.515  0.5\n",
      "        AGR    CON    EXT    OPN  NEU\n",
      "True  0.469  0.492  0.483  0.485  0.5\n"
     ]
    }
   ],
   "source": [
    "print((df_counts[0:1]/df_counts.sum()).round(decimals=3))\n",
    "print((df_counts[1:2]/df_counts.sum()).round(decimals=3))"
   ]
  },
  {
   "cell_type": "code",
   "execution_count": 13,
   "id": "1b0901ce",
   "metadata": {},
   "outputs": [
    {
     "data": {
      "image/png": "[encoded data removed]",
      "text/plain": [
       "<Figure size 432x288 with 1 Axes>"
      ]
     },
     "metadata": {
      "needs_background": "light"
     },
     "output_type": "display_data"
    }
   ],
   "source": [
    "# plot data\n",
    "%matplotlib inline\n",
    "import matplotlib\n",
    "import matplotlib.pyplot as plt\n",
    "from IPython.core.pylabtools import figsize # import figsize\n",
    "\n",
    "import seaborn as sns\n",
    "\n",
    "df_counts.index = (['False', 'True'])\n",
    "ax = df_counts.T.plot.bar(stacked=True, color=['#FC7459', '#DBEAFF'])\n",
    "# ax.color_palette(\"pastel\")\n",
    "# annotate the bars\n",
    "for i, rect in enumerate(ax.patches):\n",
    "    # Find where everything is located\n",
    "    height = rect.get_height()\n",
    "    width = rect.get_width()\n",
    "    x = rect.get_x()\n",
    "    y = rect.get_y()\n",
    "\n",
    "    # The height of the bar is the count value and can used as the label\n",
    "    label_text = f'{height:.0f}'\n",
    "\n",
    "    label_x = x + width / 2\n",
    "    label_y = y + height / 2\n",
    "\n",
    "    # don't include label if it's equivalently 0\n",
    "    if height > 0.001:\n",
    "        ax.text(label_x, label_y, label_text, ha='center', va='center', fontsize=12)\n",
    "\n",
    "ax.set_xticklabels(df_counts.columns, rotation=23, fontsize=12, fontstyle='oblique', fontweight='550')\n",
    "ax.legend(bbox_to_anchor=(0.75, 0.99), loc=0, borderaxespad=0.0)\n",
    "ax.spines['right'].set_visible(False)\n",
    "ax.spines['top'].set_visible(False)\n",
    "ax.spines['left'].set_visible(True)\n",
    "ax.spines['bottom'].set_visible(True)\n",
    "plt.savefig('plot/essay_personality.png', dpi=300)\n"
   ]
  },
  {
   "cell_type": "code",
   "execution_count": 16,
   "id": "74d31d90",
   "metadata": {},
   "outputs": [
    {
     "data": {
      "text/plain": [
       "count    2467.000000\n",
       "mean      662.411836\n",
       "std       266.557074\n",
       "min        34.000000\n",
       "25%       479.500000\n",
       "50%       637.000000\n",
       "75%       815.000000\n",
       "max      3836.000000\n",
       "Name: sample_length, dtype: float64"
      ]
     },
     "execution_count": 16,
     "metadata": {},
     "output_type": "execute_result"
    }
   ],
   "source": [
    "df_essay['sample_length'] = df_essay['utterance'].apply(lambda x: len(x.split(' ')))\n",
    "df_essay['sample_length'].describe()"
   ]
  },
  {
   "cell_type": "code",
   "execution_count": 15,
   "id": "d5a67ffe",
   "metadata": {},
   "outputs": [
    {
     "name": "stderr",
     "output_type": "stream",
     "text": [
      "/tmp/ipykernel_27559/3983285588.py:7: SettingWithCopyWarning: \n",
      "A value is trying to be set on a copy of a slice from a DataFrame.\n",
      "Try using .loc[row_indexer,col_indexer] = value instead\n",
      "\n",
      "See the caveats in the documentation: https://pandas.pydata.org/pandas-docs/stable/user_guide/indexing.html#returning-a-view-versus-a-copy\n",
      "  df_essay_E['labels'] = df_essay_E['labels'].map(labels_map)\n",
      "/tmp/ipykernel_27559/3983285588.py:12: SettingWithCopyWarning: \n",
      "A value is trying to be set on a copy of a slice from a DataFrame.\n",
      "Try using .loc[row_indexer,col_indexer] = value instead\n",
      "\n",
      "See the caveats in the documentation: https://pandas.pydata.org/pandas-docs/stable/user_guide/indexing.html#returning-a-view-versus-a-copy\n",
      "  df_essay_N['labels'] = df_essay_N['labels'].map(labels_map)\n",
      "/tmp/ipykernel_27559/3983285588.py:17: SettingWithCopyWarning: \n",
      "A value is trying to be set on a copy of a slice from a DataFrame.\n",
      "Try using .loc[row_indexer,col_indexer] = value instead\n",
      "\n",
      "See the caveats in the documentation: https://pandas.pydata.org/pandas-docs/stable/user_guide/indexing.html#returning-a-view-versus-a-copy\n",
      "  df_essay_A['labels'] = df_essay_A['labels'].map(labels_map)\n",
      "/tmp/ipykernel_27559/3983285588.py:22: SettingWithCopyWarning: \n",
      "A value is trying to be set on a copy of a slice from a DataFrame.\n",
      "Try using .loc[row_indexer,col_indexer] = value instead\n",
      "\n",
      "See the caveats in the documentation: https://pandas.pydata.org/pandas-docs/stable/user_guide/indexing.html#returning-a-view-versus-a-copy\n",
      "  df_essay_C['labels'] = df_essay_C['labels'].map(labels_map)\n",
      "/tmp/ipykernel_27559/3983285588.py:27: SettingWithCopyWarning: \n",
      "A value is trying to be set on a copy of a slice from a DataFrame.\n",
      "Try using .loc[row_indexer,col_indexer] = value instead\n",
      "\n",
      "See the caveats in the documentation: https://pandas.pydata.org/pandas-docs/stable/user_guide/indexing.html#returning-a-view-versus-a-copy\n",
      "  df_essay_O['labels'] = df_essay_O['labels'].map(labels_map)\n"
     ]
    }
   ],
   "source": [
    "# split data and output tsv\n",
    "labels_map = {'n':0,'y':1}\n",
    "for index, row in df_essay.iteritems():\n",
    "    if index == 'cEXT':\n",
    "        df_essay_E = df_essay[['utterance','cEXT']]\n",
    "        df_essay_E.rename(columns={'cEXT':'labels'},inplace=True)\n",
    "        df_essay_E['labels'] = df_essay_E['labels'].map(labels_map)\n",
    "        df_essay_E.to_csv('Essay_E_whole.tsv',sep = '\\t')\n",
    "    elif index == 'cNEU':\n",
    "        df_essay_N = df_essay[['utterance','cNEU']]\n",
    "        df_essay_N.rename(columns={'cNEU':'labels'},inplace=True)\n",
    "        df_essay_N['labels'] = df_essay_N['labels'].map(labels_map)\n",
    "        df_essay_N.to_csv('Essay_N_whole.tsv',sep = '\\t')\n",
    "    elif index == 'cAGR':\n",
    "        df_essay_A = df_essay[['utterance','cAGR']]\n",
    "        df_essay_A.rename(columns={'cAGR':'labels'},inplace=True)\n",
    "        df_essay_A['labels'] = df_essay_A['labels'].map(labels_map)\n",
    "        df_essay_A.to_csv('Essay_A_whole.tsv',sep = '\\t')\n",
    "    elif index == 'cCON':\n",
    "        df_essay_C = df_essay[['utterance','cCON']]\n",
    "        df_essay_C.rename(columns={'cCON':'labels'},inplace=True)\n",
    "        df_essay_C['labels'] = df_essay_C['labels'].map(labels_map)\n",
    "        df_essay_C.to_csv('Essay_C_whole.tsv',sep = '\\t')\n",
    "    elif index == 'cOPN':\n",
    "        df_essay_O = df_essay[['utterance','cOPN']]\n",
    "        df_essay_O.rename(columns={'cOPN':'labels'},inplace=True)\n",
    "        df_essay_O['labels'] = df_essay_O['labels'].map(labels_map)\n",
    "        df_essay_O.to_csv('Essay_O_whole.tsv',sep = '\\t')"
   ]
  },
  {
   "cell_type": "code",
   "execution_count": null,
   "id": "e5dfccf5",
   "metadata": {},
   "outputs": [],
   "source": []
  }
 ],
 "metadata": {
  "kernelspec": {
   "display_name": "Python 3 (ipykernel)",
   "language": "python",
   "name": "python3"
  },
  "language_info": {
   "codemirror_mode": {
    "name": "ipython",
    "version": 3
   },
   "file_extension": ".py",
   "mimetype": "text/x-python",
   "name": "python",
   "nbconvert_exporter": "python",
   "pygments_lexer": "ipython3",
   "version": "3.9.7"
  }
 },
 "nbformat": 4,
 "nbformat_minor": 5
}
