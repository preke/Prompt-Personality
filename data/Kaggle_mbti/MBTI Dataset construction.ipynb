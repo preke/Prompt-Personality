{
 "cells": [
  {
   "cell_type": "code",
   "execution_count": 1,
   "id": "1cbe2ced",
   "metadata": {},
   "outputs": [],
   "source": [
    "# Personality Get function\n",
    "def getPersonality(type,index):\n",
    "    if index == 0:\n",
    "        if type[index] == 'I':\n",
    "            return 1\n",
    "        else:\n",
    "            return 0\n",
    "    elif index == 1:\n",
    "        if type[index] == 'N':\n",
    "            return 1\n",
    "        else:\n",
    "            return 0  \n",
    "    elif index == 2:\n",
    "        if type[index] == 'T':\n",
    "            return 1\n",
    "        else:\n",
    "            return 0\n",
    "    elif index == 3:\n",
    "        if type[index] == 'J':\n",
    "            return 1\n",
    "        else:\n",
    "            return 0"
   ]
  },
  {
   "cell_type": "code",
   "execution_count": 2,
   "id": "8d3cec3a",
   "metadata": {},
   "outputs": [
    {
     "data": {
      "text/html": [
       "<div>\n",
       "<style scoped>\n",
       "    .dataframe tbody tr th:only-of-type {\n",
       "        vertical-align: middle;\n",
       "    }\n",
       "\n",
       "    .dataframe tbody tr th {\n",
       "        vertical-align: top;\n",
       "    }\n",
       "\n",
       "    .dataframe thead th {\n",
       "        text-align: right;\n",
       "    }\n",
       "</style>\n",
       "<table border=\"1\" class=\"dataframe\">\n",
       "  <thead>\n",
       "    <tr style=\"text-align: right;\">\n",
       "      <th></th>\n",
       "      <th>utterance</th>\n",
       "      <th>type</th>\n",
       "      <th>cI</th>\n",
       "      <th>cN</th>\n",
       "      <th>cT</th>\n",
       "      <th>cJ</th>\n",
       "    </tr>\n",
       "  </thead>\n",
       "  <tbody>\n",
       "    <tr>\n",
       "      <th>0</th>\n",
       "      <td>'http://www.youtube.com/watch?v=qsXHcwe3krw|||...</td>\n",
       "      <td>INFJ</td>\n",
       "      <td>1</td>\n",
       "      <td>1</td>\n",
       "      <td>0</td>\n",
       "      <td>1</td>\n",
       "    </tr>\n",
       "    <tr>\n",
       "      <th>1</th>\n",
       "      <td>'I'm finding the lack of me in these posts ver...</td>\n",
       "      <td>ENTP</td>\n",
       "      <td>0</td>\n",
       "      <td>1</td>\n",
       "      <td>1</td>\n",
       "      <td>0</td>\n",
       "    </tr>\n",
       "    <tr>\n",
       "      <th>2</th>\n",
       "      <td>'Good one  _____   https://www.youtube.com/wat...</td>\n",
       "      <td>INTP</td>\n",
       "      <td>1</td>\n",
       "      <td>1</td>\n",
       "      <td>1</td>\n",
       "      <td>0</td>\n",
       "    </tr>\n",
       "    <tr>\n",
       "      <th>3</th>\n",
       "      <td>'Dear INTP,   I enjoyed our conversation the o...</td>\n",
       "      <td>INTJ</td>\n",
       "      <td>1</td>\n",
       "      <td>1</td>\n",
       "      <td>1</td>\n",
       "      <td>1</td>\n",
       "    </tr>\n",
       "    <tr>\n",
       "      <th>4</th>\n",
       "      <td>'You're fired.|||That's another silly misconce...</td>\n",
       "      <td>ENTJ</td>\n",
       "      <td>0</td>\n",
       "      <td>1</td>\n",
       "      <td>1</td>\n",
       "      <td>1</td>\n",
       "    </tr>\n",
       "    <tr>\n",
       "      <th>...</th>\n",
       "      <td>...</td>\n",
       "      <td>...</td>\n",
       "      <td>...</td>\n",
       "      <td>...</td>\n",
       "      <td>...</td>\n",
       "      <td>...</td>\n",
       "    </tr>\n",
       "    <tr>\n",
       "      <th>8670</th>\n",
       "      <td>'https://www.youtube.com/watch?v=t8edHB_h908||...</td>\n",
       "      <td>ISFP</td>\n",
       "      <td>1</td>\n",
       "      <td>0</td>\n",
       "      <td>0</td>\n",
       "      <td>0</td>\n",
       "    </tr>\n",
       "    <tr>\n",
       "      <th>8671</th>\n",
       "      <td>'So...if this thread already exists someplace ...</td>\n",
       "      <td>ENFP</td>\n",
       "      <td>0</td>\n",
       "      <td>1</td>\n",
       "      <td>0</td>\n",
       "      <td>0</td>\n",
       "    </tr>\n",
       "    <tr>\n",
       "      <th>8672</th>\n",
       "      <td>'So many questions when i do these things.  I ...</td>\n",
       "      <td>INTP</td>\n",
       "      <td>1</td>\n",
       "      <td>1</td>\n",
       "      <td>1</td>\n",
       "      <td>0</td>\n",
       "    </tr>\n",
       "    <tr>\n",
       "      <th>8673</th>\n",
       "      <td>'I am very conflicted right now when it comes ...</td>\n",
       "      <td>INFP</td>\n",
       "      <td>1</td>\n",
       "      <td>1</td>\n",
       "      <td>0</td>\n",
       "      <td>0</td>\n",
       "    </tr>\n",
       "    <tr>\n",
       "      <th>8674</th>\n",
       "      <td>'It has been too long since I have been on per...</td>\n",
       "      <td>INFP</td>\n",
       "      <td>1</td>\n",
       "      <td>1</td>\n",
       "      <td>0</td>\n",
       "      <td>0</td>\n",
       "    </tr>\n",
       "  </tbody>\n",
       "</table>\n",
       "<p>8675 rows × 6 columns</p>\n",
       "</div>"
      ],
      "text/plain": [
       "                                              utterance  type  cI  cN  cT  cJ\n",
       "0     'http://www.youtube.com/watch?v=qsXHcwe3krw|||...  INFJ   1   1   0   1\n",
       "1     'I'm finding the lack of me in these posts ver...  ENTP   0   1   1   0\n",
       "2     'Good one  _____   https://www.youtube.com/wat...  INTP   1   1   1   0\n",
       "3     'Dear INTP,   I enjoyed our conversation the o...  INTJ   1   1   1   1\n",
       "4     'You're fired.|||That's another silly misconce...  ENTJ   0   1   1   1\n",
       "...                                                 ...   ...  ..  ..  ..  ..\n",
       "8670  'https://www.youtube.com/watch?v=t8edHB_h908||...  ISFP   1   0   0   0\n",
       "8671  'So...if this thread already exists someplace ...  ENFP   0   1   0   0\n",
       "8672  'So many questions when i do these things.  I ...  INTP   1   1   1   0\n",
       "8673  'I am very conflicted right now when it comes ...  INFP   1   1   0   0\n",
       "8674  'It has been too long since I have been on per...  INFP   1   1   0   0\n",
       "\n",
       "[8675 rows x 6 columns]"
      ]
     },
     "execution_count": 2,
     "metadata": {},
     "output_type": "execute_result"
    }
   ],
   "source": [
    "import pandas as pd\n",
    "import numpy as np\n",
    "\n",
    "# read data\n",
    "mbti = pd.read_csv('mbti.csv',sep = ',')\n",
    "mbti = mbti[['posts','type']]\n",
    "df_mbti = mbti.rename(columns={'posts':'utterance'})\n",
    "df_mbti['cI'] = df_mbti.apply(lambda x:getPersonality(x['type'],0), axis=1)\n",
    "df_mbti['cN'] = df_mbti.apply(lambda x:getPersonality(x['type'],1), axis=1)\n",
    "df_mbti['cT'] = df_mbti.apply(lambda x:getPersonality(x['type'],2), axis=1)\n",
    "df_mbti['cJ'] = df_mbti.apply(lambda x:getPersonality(x['type'],3), axis=1)\n",
    "df_mbti"
   ]
  },
  {
   "cell_type": "code",
   "execution_count": 3,
   "id": "dbe3949f",
   "metadata": {},
   "outputs": [
    {
     "name": "stdout",
     "output_type": "stream",
     "text": [
      "   Introversion  Intuition  Thinking  Judging\n",
      "0          6676       7478      4694     5241\n",
      "1          1999       1197      3981     3434\n"
     ]
    }
   ],
   "source": [
    "# plot personality counts\n",
    "df_labels = df_mbti[['cI','cN','cT','cJ']]\n",
    "df_counts = pd.DataFrame([])\n",
    "df_counts['Introversion'] = df_labels['cI'].value_counts().reset_index()['cI']\n",
    "df_counts['Intuition'] = df_labels['cN'].value_counts().reset_index()['cN']\n",
    "df_counts['Thinking'] = df_labels['cT'].value_counts().reset_index()['cT']\n",
    "df_counts['Judging'] = df_labels['cJ'].value_counts().reset_index()['cJ']\n",
    "print(df_counts)"
   ]
  },
  {
   "cell_type": "code",
   "execution_count": 4,
   "id": "ec7a4ec9",
   "metadata": {},
   "outputs": [
    {
     "name": "stdout",
     "output_type": "stream",
     "text": [
      "   Introversion  Intuition  Thinking  Judging\n",
      "0          0.77      0.862     0.541    0.604\n",
      "   Introversion  Intuition  Thinking  Judging\n",
      "1          0.23      0.138     0.459    0.396\n"
     ]
    }
   ],
   "source": [
    "print((df_counts[0:1]/df_counts.sum()).round(decimals=3))\n",
    "print((df_counts[1:2]/df_counts.sum()).round(decimals=3))"
   ]
  },
  {
   "cell_type": "code",
   "execution_count": 5,
   "id": "0c01a392",
   "metadata": {},
   "outputs": [
    {
     "data": {
      "image/png": "[encoded data removed]",
      "text/plain": [
       "<Figure size 432x288 with 1 Axes>"
      ]
     },
     "metadata": {
      "needs_background": "light"
     },
     "output_type": "display_data"
    }
   ],
   "source": [
    "# plot data\n",
    "%matplotlib inline\n",
    "import matplotlib\n",
    "import matplotlib.pyplot as plt\n",
    "from IPython.core.pylabtools import figsize # import figsize\n",
    "\n",
    "import seaborn as sns\n",
    "\n",
    "df_counts.index = (['False', 'True'])\n",
    "ax = df_counts.T.plot.bar(stacked=True, color=['#FC7459', '#DBEAFF'])\n",
    "# ax.color_palette(\"pastel\")\n",
    "# annotate the bars\n",
    "for i, rect in enumerate(ax.patches):\n",
    "    # Find where everything is located\n",
    "    height = rect.get_height()\n",
    "    width = rect.get_width()\n",
    "    x = rect.get_x()\n",
    "    y = rect.get_y()\n",
    "\n",
    "    # The height of the bar is the count value and can used as the label\n",
    "    label_text = f'{height:.0f}'\n",
    "\n",
    "    label_x = x + width / 2\n",
    "    label_y = y + height / 2\n",
    "\n",
    "    # don't include label if it's equivalently 0\n",
    "    if height > 0.001:\n",
    "        ax.text(label_x, label_y, label_text, ha='center', va='center', fontsize=12)\n",
    "\n",
    "ax.set_xticklabels(df_counts.columns, rotation=23, fontsize=12, fontstyle='oblique', fontweight='550')\n",
    "ax.legend(bbox_to_anchor=(0.75, 0.99), loc=0, borderaxespad=0.0)\n",
    "ax.spines['right'].set_visible(False)\n",
    "ax.spines['top'].set_visible(False)\n",
    "ax.spines['left'].set_visible(True)\n",
    "ax.spines['bottom'].set_visible(True)\n",
    "plt.savefig('plot/mbti_personality.png', dpi=300)"
   ]
  },
  {
   "cell_type": "code",
   "execution_count": 6,
   "id": "22c84fba",
   "metadata": {},
   "outputs": [
    {
     "data": {
      "text/plain": [
       "count    8675.000000\n",
       "mean     1262.678963\n",
       "std       317.261077\n",
       "min         4.000000\n",
       "25%      1081.000000\n",
       "50%      1314.000000\n",
       "75%      1497.000000\n",
       "max      2212.000000\n",
       "Name: sample_length, dtype: float64"
      ]
     },
     "execution_count": 6,
     "metadata": {},
     "output_type": "execute_result"
    }
   ],
   "source": [
    "df_mbti['sample_length'] = df_mbti['utterance'].apply(lambda x: len(x.split(' ')))\n",
    "df_mbti['sample_length'].describe()"
   ]
  },
  {
   "cell_type": "code",
   "execution_count": 7,
   "id": "4ba4fe45",
   "metadata": {},
   "outputs": [
    {
     "name": "stderr",
     "output_type": "stream",
     "text": [
      "/home/zhiyuan/ENTER/lib/python3.9/site-packages/pandas/core/frame.py:5039: SettingWithCopyWarning: \n",
      "A value is trying to be set on a copy of a slice from a DataFrame\n",
      "\n",
      "See the caveats in the documentation: https://pandas.pydata.org/pandas-docs/stable/user_guide/indexing.html#returning-a-view-versus-a-copy\n",
      "  return super().rename(\n"
     ]
    }
   ],
   "source": [
    "# split data and output tsv\n",
    "# labels_map = {'n':0,'y':1}\n",
    "for index, row in df_mbti.iteritems():\n",
    "    if index == 'cI':\n",
    "        df_mbti_E = df_mbti[['utterance','cI']]\n",
    "        df_mbti_E.rename(columns={'cI':'labels'},inplace=True)\n",
    "        # df_mbti_E['labels'] = df_mbti_E['labels'].map(labels_map)\n",
    "        df_mbti_E.to_csv('mbti_I_whole.tsv',sep = '\\t')\n",
    "    elif index == 'cN':\n",
    "        df_mbti_N = df_mbti[['utterance','cN']]\n",
    "        df_mbti_N.rename(columns={'cN':'labels'},inplace=True)\n",
    "        # df_mbti_N['labels'] = df_mbti_N['labels'].map(labels_map)\n",
    "        df_mbti_N.to_csv('mbti_N_whole.tsv',sep = '\\t')\n",
    "    elif index == 'cT':\n",
    "        df_mbti_A = df_mbti[['utterance','cT']]\n",
    "        df_mbti_A.rename(columns={'cT':'labels'},inplace=True)\n",
    "        # df_mbti_A['labels'] = df_mbti_A['labels'].map(labels_map)\n",
    "        df_mbti_A.to_csv('mbti_T_whole.tsv',sep = '\\t')\n",
    "    elif index == 'cJ':\n",
    "        df_mbti_C = df_mbti[['utterance','cJ']]\n",
    "        df_mbti_C.rename(columns={'cJ':'labels'},inplace=True)\n",
    "        # df_mbti_C['labels'] = df_mbti_C['labels'].map(labels_map)\n",
    "        df_mbti_C.to_csv('mbti_J_whole.tsv',sep = '\\t')"
   ]
  },
  {
   "cell_type": "code",
   "execution_count": null,
   "id": "2c976bd4",
   "metadata": {},
   "outputs": [],
   "source": []
  }
 ],
 "metadata": {
  "kernelspec": {
   "display_name": "Python 3 (ipykernel)",
   "language": "python",
   "name": "python3"
  },
  "language_info": {
   "codemirror_mode": {
    "name": "ipython",
    "version": 3
   },
   "file_extension": ".py",
   "mimetype": "text/x-python",
   "name": "python",
   "nbconvert_exporter": "python",
   "pygments_lexer": "ipython3",
   "version": "3.9.7"
  }
 },
 "nbformat": 4,
 "nbformat_minor": 5
}
